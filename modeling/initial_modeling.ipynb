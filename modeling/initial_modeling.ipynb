{
 "cells": [
  {
   "attachments": {},
   "cell_type": "markdown",
   "metadata": {},
   "source": [
    "# Modeling"
   ]
  },
  {
   "cell_type": "code",
   "execution_count": null,
   "metadata": {},
   "outputs": [],
   "source": [
    "from operator import mod\n",
    "from os import getcwd\n",
    "from os.path import exists, join\n",
    "\n",
    "import joblib\n",
    "from sklearn.datasets import fetch_california_housing\n",
    "from sklearn.impute import SimpleImputer\n",
    "from sklearn.model_selection import GridSearchCV, train_test_split\n",
    "from sklearn.pipeline import make_pipeline\n",
    "from sklearn.preprocessing import RobustScaler\n",
    "from sklearn.svm import SVR\n",
    "import pandas as pd"
   ]
  },
  {
   "cell_type": "code",
   "execution_count": null,
   "metadata": {},
   "outputs": [],
   "source": [
    "from sklearn import preprocessing\n",
    "from sklearn.neighbors import KNeighborsClassifier\n",
    "from sklearn.metrics import classification_report, confusion_matrix, ConfusionMatrixDisplay\n",
    "from sklearn.naive_bayes import BernoulliNB\n",
    "from sklearn.naive_bayes import GaussianNB\n",
    "from sklearn.naive_bayes import MultinomialNB\n",
    "from sklearn.model_selection import GridSearchCV\n",
    "\n",
    "from sklearn.linear_model import LogisticRegression, LinearRegression\n",
    "import warnings\n",
    "from sklearn import metrics\n",
    "from sklearn.preprocessing import StandardScaler\n",
    "from sklearn.preprocessing import MinMaxScaler\n",
    "from sklearn.preprocessing import Normalizer\n",
    "from sklearn.decomposition import PCA\n",
    "from sklearn.ensemble import RandomForestClassifier\n",
    "from sklearn.tree import DecisionTreeClassifier\n",
    "from sklearn.ensemble import ExtraTreesClassifier\n",
    "import matplotlib.pyplot as plt\n",
    "from sklearn.ensemble import  GradientBoostingClassifier\n",
    "import seaborn as sns\n",
    "from sklearn.metrics import confusion_matrix\n",
    "from sklearn.svm import SVC, LinearSVC \n",
    "from sklearn.neural_network import MLPClassifier\n",
    "\n",
    "from sklearn.metrics import recall_score\n",
    "\n",
    "from sklearn import tree\n",
    "from sklearn.decomposition import PCA, SparsePCA\n",
    "\n",
    "from sklearn.mixture import GaussianMixture\n",
    "from sklearn.decomposition import PCA\n",
    "import json\n",
    "import pickle\n",
    "from IPython.display import Image\n",
    "import warnings"
   ]
  },
  {
   "cell_type": "code",
   "execution_count": null,
   "metadata": {},
   "outputs": [],
   "source": [
    "df_cdc_clean = pd.read_csv('../data/cdc_nhanes_survey_responses_clean.csv')\n",
    "# filter to moms\n",
    "df_cdc_clean = df_cdc_clean[df_cdc_clean['has_been_pregnant'] == 1]\n",
    "df_cdc_clean"
   ]
  },
  {
   "cell_type": "code",
   "execution_count": null,
   "metadata": {},
   "outputs": [],
   "source": [
    "cols_to_keep = ['SEQN']\n",
    "cols_to_keep.extend(df_cdc_clean.columns.tolist()[-38:])\n",
    "cols_to_keep"
   ]
  },
  {
   "cell_type": "code",
   "execution_count": null,
   "metadata": {},
   "outputs": [],
   "source": [
    "df_cdc_clean = df_cdc_clean[cols_to_keep]\n",
    "df_cdc_clean"
   ]
  },
  {
   "cell_type": "code",
   "execution_count": null,
   "metadata": {},
   "outputs": [],
   "source": [
    "X = df_cdc_clean.iloc[:,2:].values\n",
    "y = df_cdc_clean['MDD'].values\n",
    "\n",
    "\n",
    "X_train, X_test, y_train, y_test = train_test_split(\n",
    "    X, y, test_size=0.2, random_state=42\n",
    ")"
   ]
  },
  {
   "cell_type": "code",
   "execution_count": null,
   "metadata": {},
   "outputs": [],
   "source": [
    "def plot_confusion_matrix(y_test, pred_labels):\n",
    "    \"\"\"\n",
    "    Function that displays a confusion matrix for provided true and predicted classes\n",
    "    \"\"\"\n",
    "    #print(f'cover type 1 and type 2 total correct {np.sum(np.diag(metrics.confusion_matrix(y_test, pred_labels))[:2])}')\n",
    "\n",
    "    cm = confusion_matrix(y_test, pred_labels)\n",
    "    disp = ConfusionMatrixDisplay(confusion_matrix=cm)\n",
    "    fig, ax = plt.subplots(figsize=(5,5))\n",
    "    disp = disp.plot(include_values=True, cmap='viridis', ax=ax, xticks_rotation='horizontal')    \n",
    "    plt.grid(False)\n",
    "    plt.show()\n",
    "    return\n",
    "\n",
    "def baseline_models(\n",
    "    X_train, \n",
    "    y_train, \n",
    "    X_test, \n",
    "    y_test,\n",
    "    show_confusion_matrix=True,\n",
    "    show_score_dataframe=True):\n",
    "    \"\"\"\n",
    "    Function that trains and makes predictions using 5 of the classifiers went over during the class.\n",
    "    Meant as a helper function for easier testing of different modeling pipelines.\n",
    "    \"\"\"\n",
    "\n",
    "\n",
    "\n",
    "    # K-Nearest Neighbors\n",
    "    knn = make_pipeline(SimpleImputer(), RobustScaler(), KNeighborsClassifier())\n",
    "    knn.fit(X_train, y_train)\n",
    "    pred_labels_knn  = knn.predict(X_test)\n",
    "    score_knn = recall_score(y_test, pred_labels_knn, average='macro')\n",
    "    \n",
    "    \n",
    "    # Logistic Regression\n",
    "    lm = make_pipeline(SimpleImputer(), RobustScaler(), LogisticRegression()) \n",
    "    lm.fit(X_train, y_train)\n",
    "    pred_labels_lr  = lm.predict(X_test)\n",
    "    score_lr = recall_score(y_test, pred_labels_lr, average='macro')\n",
    "        \n",
    "    # Bernoulii Naive Bayes\n",
    "    bnb = make_pipeline(SimpleImputer(), RobustScaler(), BernoulliNB())  \n",
    "    bnb.fit(X_train, y_train)\n",
    "    pred_labels_bnb  = bnb.predict(X_test)\n",
    "    score_bnb = recall_score(y_test, pred_labels_bnb, average='macro')\n",
    "        \n",
    "    # Gaussian Naive Bayes\n",
    "    gnb = make_pipeline(SimpleImputer(), RobustScaler(), GaussianNB())\n",
    "    gnb.fit(X_train, y_train)\n",
    "    score_gnb = (gnb.score(X_test, y_test))\n",
    "    pred_labels_gnb  = gnb.predict(X_test)\n",
    "\n",
    "    # Random Forest\n",
    "    rf = make_pipeline(SimpleImputer(), RobustScaler(), RandomForestClassifier(random_state=0))\n",
    "    rf.fit(X_train, y_train)\n",
    "    pred_labels_rf  = rf.predict(X_test)\n",
    "    predictions_posterior_rf = rf.predict_proba(X_test)\n",
    "    score_rf = recall_score(y_test, pred_labels_rf, average='macro')\n",
    "\n",
    "    \n",
    "    # make dataframe with scores\n",
    "    scores = {\n",
    "        'Model' : ['Knn','Logistic Regression', 'Bernoulli Naive Bayes', 'Gaussian Naive Bayes' ,'Random Forest'],\n",
    "        'Recall' : [score_knn, score_lr, score_bnb, score_gnb, score_rf]\n",
    "    }\n",
    "    scores = pd.DataFrame(scores).sort_values('Recall',ascending=False)\n",
    "    \n",
    "    if show_score_dataframe:\n",
    "        display(scores.style.set_table_attributes('style=\"font-size: 17px\"').hide_index())\n",
    "    \n",
    "    if show_confusion_matrix:\n",
    "        print('\\nK-Nearest Neighbors Confusion Matrix')\n",
    "        plot_confusion_matrix(y_test, pred_labels_knn)\n",
    "        print('Logistic Regression Confusion Matrix')\n",
    "        plot_confusion_matrix(y_test, pred_labels_lr)\n",
    "        print('Bernoulli Naive Bayes Confusion Matrix')\n",
    "        plot_confusion_matrix(y_test, pred_labels_bnb)\n",
    "        print('Gaussian Naive Bayes Confusion Matrix')\n",
    "        plot_confusion_matrix(y_test, pred_labels_gnb)\n",
    "        print('Random Forest Confusion Matrix')\n",
    "        plot_confusion_matrix(y_test, pred_labels_rf)\n",
    "\n",
    "    \n",
    "    return scores\n",
    "\n"
   ]
  },
  {
   "cell_type": "code",
   "execution_count": null,
   "metadata": {},
   "outputs": [],
   "source": [
    "\n",
    "baseline_accuracies = baseline_models(X_train, y_train, X_test, y_test)"
   ]
  },
  {
   "attachments": {},
   "cell_type": "markdown",
   "metadata": {},
   "source": [
    "## Transform pipeline\n",
    "SVG is terrible, but need to do some gridsearch on above baselines"
   ]
  },
  {
   "cell_type": "code",
   "execution_count": null,
   "metadata": {},
   "outputs": [],
   "source": [
    "\n",
    "# Model Pipeline\n",
    "processing_pipeline = make_pipeline(SimpleImputer(), RobustScaler(), SVR())\n",
    "\n",
    "params = {\n",
    "    \"simpleimputer__strategy\": [\"mean\", \"median\"],\n",
    "    \"robustscaler__quantile_range\": [(25.0, 75.0), (30.0, 70.0)],\n",
    "    \"svr__C\": [0.1, 1.0],\n",
    "    \"svr__gamma\": [\"auto\", 0.1],\n",
    "}\n",
    "\n",
    "grid = GridSearchCV(processing_pipeline, param_grid=params, n_jobs=-1, cv=5, verbose=3)\n",
    "\n",
    "model_filename = \"model_pipeline.pkl\"\n",
    "model_path = join(getcwd(), model_filename)\n",
    "print(model_path)\n",
    "grid.fit(X_train, y_train)\n",
    "\n",
    "print(f\"Train R^2 Score : {grid.best_estimator_.score(X_train, y_train):.3f}\")\n",
    "print(f\"Test R^2 Score : {grid.best_estimator_.score(X_test, y_test):.3f}\")\n",
    "print(f\"Best R^2 Score Through Grid Search : {grid.best_score_:.3f}\")\n",
    "print(f\"Best Parameters : {grid.best_params_}\")\n"
   ]
  },
  {
   "cell_type": "code",
   "execution_count": null,
   "metadata": {},
   "outputs": [],
   "source": []
  }
 ],
 "metadata": {
  "kernelspec": {
   "display_name": ".venv",
   "language": "python",
   "name": "python3"
  },
  "language_info": {
   "codemirror_mode": {
    "name": "ipython",
    "version": 3
   },
   "file_extension": ".py",
   "mimetype": "text/x-python",
   "name": "python",
   "nbconvert_exporter": "python",
   "pygments_lexer": "ipython3",
   "version": "3.10.0"
  },
  "orig_nbformat": 4
 },
 "nbformat": 4,
 "nbformat_minor": 2
}
