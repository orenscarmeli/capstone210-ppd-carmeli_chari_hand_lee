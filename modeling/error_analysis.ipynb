{
 "cells": [
  {
   "cell_type": "markdown",
   "metadata": {},
   "source": [
    "### Load Packages"
   ]
  },
  {
   "cell_type": "code",
   "execution_count": 3,
   "metadata": {},
   "outputs": [
    {
     "name": "stderr",
     "output_type": "stream",
     "text": [
      "/Users/orencarmeli/opt/anaconda3/lib/python3.8/site-packages/pandas/core/computation/expressions.py:20: UserWarning: Pandas requires version '2.7.3' or newer of 'numexpr' (version '2.7.1' currently installed).\n",
      "  from pandas.core.computation.check import NUMEXPR_INSTALLED\n"
     ]
    }
   ],
   "source": [
    "# TODO: add annotations describing usage of different modules\n",
    "\n",
    "from operator import mod\n",
    "from os import getcwd\n",
    "from os.path import exists, join\n",
    "\n",
    "import joblib\n",
    "from sklearn.datasets import fetch_california_housing\n",
    "from sklearn.impute import SimpleImputer\n",
    "from sklearn.model_selection import GridSearchCV, train_test_split\n",
    "from sklearn.pipeline import make_pipeline\n",
    "from sklearn.preprocessing import RobustScaler\n",
    "from sklearn.svm import SVR\n",
    "import pandas as pd\n",
    "import numpy as np\n",
    "# from ydata_profiling import ProfileReport\n",
    "\n",
    "from sklearn import preprocessing\n",
    "from sklearn.neighbors import KNeighborsClassifier\n",
    "from sklearn.metrics import classification_report, confusion_matrix, ConfusionMatrixDisplay\n",
    "from sklearn.naive_bayes import BernoulliNB\n",
    "from sklearn.naive_bayes import GaussianNB\n",
    "from sklearn.naive_bayes import MultinomialNB\n",
    "from sklearn.model_selection import GridSearchCV\n",
    "from sklearn.metrics import accuracy_score, recall_score, precision_score, f1_score\n",
    "from sklearn.linear_model import LogisticRegression, LinearRegression\n",
    "import warnings\n",
    "from sklearn import metrics\n",
    "from sklearn.preprocessing import StandardScaler\n",
    "from sklearn.preprocessing import MinMaxScaler\n",
    "from sklearn.preprocessing import Normalizer\n",
    "from sklearn.decomposition import PCA\n",
    "from sklearn.ensemble import RandomForestClassifier\n",
    "from sklearn.tree import DecisionTreeClassifier\n",
    "from sklearn.ensemble import ExtraTreesClassifier\n",
    "import matplotlib.pyplot as plt\n",
    "from sklearn.ensemble import  GradientBoostingClassifier\n",
    "# import xgboost as xgb\n",
    "import seaborn as sns\n",
    "from sklearn.metrics import confusion_matrix\n",
    "from sklearn.svm import SVC, LinearSVC \n",
    "from sklearn.neural_network import MLPClassifier\n",
    "from sklearn.model_selection import KFold\n",
    "\n",
    "from sklearn.metrics import recall_score\n",
    "\n",
    "from sklearn import tree\n",
    "from sklearn.decomposition import PCA, SparsePCA\n",
    "\n",
    "from sklearn.mixture import GaussianMixture\n",
    "from sklearn.decomposition import PCA\n",
    "import json\n",
    "import pickle\n",
    "from IPython.display import Image\n",
    "import warnings\n",
    "\n",
    "from sklearn.datasets import make_classification\n",
    "from imblearn.over_sampling import RandomOverSampler\n",
    "from imblearn.under_sampling import RandomUnderSampler\n",
    "from imblearn.over_sampling import SMOTE\n",
    "from collections import Counter\n",
    "\n",
    "import altair as alt\n",
    "import random\n",
    "import warnings\n",
    "\n",
    "warnings.filterwarnings('ignore')\n",
    "\n",
    "# set seaborn whitegrid theme\n",
    "sns.set(style=\"whitegrid\")\n",
    "\n",
    "from sklearn.inspection import permutation_importance"
   ]
  },
  {
   "cell_type": "markdown",
   "metadata": {},
   "source": [
    "### Load Data"
   ]
  },
  {
   "cell_type": "code",
   "execution_count": 4,
   "metadata": {},
   "outputs": [
    {
     "name": "stdout",
     "output_type": "stream",
     "text": [
      "(35706, 863)\n",
      "(7741, 863)\n"
     ]
    }
   ],
   "source": [
    "cdc_survey = pd.read_csv('../data/cdc_nhanes_survey_responses_clean.csv')\n",
    "print(cdc_survey.shape)\n",
    "\n",
    "# filter to pregnant moms\n",
    "cdc_survey_pmom = cdc_survey[cdc_survey['has_been_pregnant'] == 1]\n",
    "print(cdc_survey_pmom.shape)"
   ]
  },
  {
   "cell_type": "markdown",
   "metadata": {},
   "source": [
    "### Candidate Features\n",
    "\n",
    "Here we list out all candidate features for our model. "
   ]
  },
  {
   "cell_type": "code",
   "execution_count": 228,
   "metadata": {},
   "outputs": [
    {
     "data": {
      "text/plain": [
       "116"
      ]
     },
     "execution_count": 228,
     "metadata": {},
     "output_type": "execute_result"
    }
   ],
   "source": [
    "# Depression screener\n",
    "dep_screener_cols = [\n",
    "    'little_interest_in_doing_things',\n",
    "    'feeling_down_depressed_hopeless',\n",
    "    'trouble_falling_or_staying_asleep',\n",
    "    'feeling_tired_or_having_little_energy',\n",
    "    'poor_appetitie_or_overeating',\n",
    "    'feeling_bad_about_yourself',\n",
    "    'trouble_concentrating',\n",
    "    'moving_or_speaking_to_slowly_or_fast',\n",
    "    'thoughts_you_would_be_better_off_dead',\n",
    "    'difficult_doing_daytoday_tasks'\n",
    "]\n",
    "\n",
    "# Alcohol & smoking\n",
    "alcohol_n_smoking_cols = [\n",
    "    'has_smoked_tabacco_last_5days',\n",
    "    'alcoholic_drinks_past_12mo', \n",
    "    'drank_alc',\n",
    "    'alc_drinking_freq',\n",
    "    'alc_per_day',\n",
    "    'times_with_4or5_alc',\n",
    "    'times_with_8plus_alc',\n",
    "    'times_with_12plus_alc',\n",
    "    '4plus_alc_daily',\n",
    "    'days_4plus_drinks_occasion',\n",
    "    'smoked_100_cigs',\n",
    "    'currently_smoke'\n",
    "]\n",
    "\n",
    "#Medical Conditions \n",
    "med_condition_cols = [\n",
    "    'chest_discomfort',\n",
    "    'asthma',\n",
    "    'anemia_treatment',\n",
    "    'blood_transfusion',\n",
    "    'arthritis',\n",
    "    'heart_failure',\n",
    "    'coronary_heart_disease',\n",
    "    'angina_pectoris',\n",
    "    'heart_attack',\n",
    "    'stroke',\n",
    "    'thyroid_issues',\n",
    "    'respiratory_issues',\n",
    "    'abdominal_pain',\n",
    "    'gallstones',\n",
    "    'gallbladder_surgery',\n",
    "    'cancer',\n",
    "    'dr_recommend_lose_weight',\n",
    "    'dr_recommend_exercise',\n",
    "    'dr_recommend_reduce_salt',\n",
    "    'dr_recommend_reduce_fat',\n",
    "    'currently_losing_weight',\n",
    "    'currently_increase_exercise',\n",
    "    'currently_reducing_salt',\n",
    "    'currently_reducing_fat',\n",
    "    'metal_objects',\n",
    "    'has_diabetes',    \n",
    "    #Blood Pressure & Cholesterol \n",
    "    'high_bp',\n",
    "    'age_hypertension',\n",
    "    'hypertension_prescription',\n",
    "    'high_bp_prescription',\n",
    "    'high_cholesterol',\n",
    "    'cholesterol_prescription',\n",
    "    # general health\n",
    "    'has_overweight_diagnosis',   \n",
    "    'height_in',\n",
    "    'weight_lbs', \n",
    "    'general_health_condition',      \n",
    "]\n",
    "\n",
    "# diet, nutrition, & exercise \n",
    "lifestyle_cols = [\n",
    "    # exercise/weight loss\n",
    "    'vigorous_work',\n",
    "    'walk_or_bicycle',\n",
    "    'vigorous_recreation',\n",
    "    'moderate_recreation',    \n",
    "    'count_days_moderate_recreational_activity',   \n",
    "    'count_minutes_moderate_recreational_activity',\n",
    "    'count_minutes_moderate_sedentary_activity',    \n",
    "    'count_lost_10plus_pounds',\n",
    "    'has_tried_to_lose_weight_12mo', \n",
    "    'attempt_weight_loss_1yr',           \n",
    "    # diet\n",
    "    'how_healthy_is_your_diet',    \n",
    "    'milk_consumption_freq',\n",
    "    'govmnt_meal_delivery',\n",
    "    'nonhomemade_meals',\n",
    "    'fastfood_meals',\n",
    "    'readytoeat_meals',\n",
    "    'frozen_pizza'   \n",
    "]\n",
    "\n",
    "# Reproductive Health \n",
    "reproductive_health_cols = [\n",
    "    'regular_periods',\n",
    "    'age_last_period',\n",
    "    'try_pregnancy_1yr',\n",
    "    'see_dr_fertility',\n",
    "    'pelvic_infection',\n",
    "    'pregnant_now',\n",
    "    'pregnancy_count',\n",
    "    'diabetes_pregnancy',\n",
    "    'delivery_count',\n",
    "    'live_birth_count',\n",
    "    'age_at_first_birth',\n",
    "    'age_at_last_birth',\n",
    "    'months_since_birth',\n",
    "    'horomones_not_bc'\n",
    "]\n",
    "\n",
    "# socioeconomic status\n",
    "socioeconomic_cols = [\n",
    "    #Food Security\n",
    "    'emergency_food_received',\n",
    "    'food_stamps_used',\n",
    "    #Hospital Utilization & Access to Care\n",
    "    'general_health',\n",
    "    'regular_healthcare_place',\n",
    "    'time_since_last_healthcare',\n",
    "    'overnight_in_hospital',\n",
    "    'seen_mental_health_professional',\n",
    "    'count_days_seen_doctor_12mo',\n",
    "    'duration_last_healthcare_visit',       \n",
    "    #Health Insurance\n",
    "    'have_health_insurance',\n",
    "    'have_private_insurance',\n",
    "    'plan_cover_prescriptions',   \n",
    "    #Income\n",
    "    'family_poverty_level',\n",
    "    'family_poverty_level_category',\n",
    "    #Occupation\n",
    "    'hours_worked',\n",
    "    'over_35_hrs_worked',\n",
    "    'work_schedule'    \n",
    "]\n",
    "\n",
    "demographic_cols = [\n",
    "    'food_security_level_household',   \n",
    "    'food_security_level_adult',    \n",
    "    'monthly_poverty_index_category',\n",
    "    'monthly_poverty_index',\n",
    "    'count_hours_worked_last_week',\n",
    "    'age_in_years',   \n",
    "    'education_level',\n",
    "    'is_usa_born',    \n",
    "    'has_health_insurance',\n",
    "    'has_health_insurance_gap'   \n",
    "]\n",
    "\n",
    "# combine all candidate features\n",
    "candidate_features = dep_screener_cols + \\\n",
    "    alcohol_n_smoking_cols + \\\n",
    "    med_condition_cols + \\\n",
    "    lifestyle_cols + \\\n",
    "    socioeconomic_cols + \\\n",
    "    reproductive_health_cols + \\\n",
    "    demographic_cols\n",
    "\n",
    "\n",
    "len(candidate_features)"
   ]
  },
  {
   "cell_type": "markdown",
   "metadata": {},
   "source": [
    "### Function to create test & train dataset"
   ]
  },
  {
   "cell_type": "code",
   "execution_count": 6,
   "metadata": {},
   "outputs": [],
   "source": [
    "def get_model_data(original_df, \n",
    "                   columns, \n",
    "                   test_size_prop=0.2,\n",
    "                   drop_null_rows=False,\n",
    "                   null_imputer_strategy='median', # mean, median, most_frequent\n",
    "                   use_value_scaler=True,\n",
    "                   use_smote=False):\n",
    "    \"\"\"\n",
    "    Function to build feature & indicator matrices for both train & test.\n",
    "    \"\"\"\n",
    "    \n",
    "    # add target column (MDD)\n",
    "    cols_to_use = columns.copy()\n",
    "    cols_to_use.insert(0, 'MDD')\n",
    "    \n",
    "    df_to_use = original_df[cols_to_use]\n",
    "    \n",
    "    if drop_null_rows:\n",
    "        df_to_use.dropna(inplace=True)\n",
    "    \n",
    "    # Create test & train data\n",
    "    x = df_to_use.iloc[:,1:].values\n",
    "    y = df_to_use['MDD'].values\n",
    "    \n",
    "    if not drop_null_rows:\n",
    "        # SimpleImputer() = fill in missing values\n",
    "        # note imputer may drop columns if no values exist for it\n",
    "        imputer = SimpleImputer(strategy=null_imputer_strategy)  \n",
    "        x = imputer.fit_transform(x)\n",
    "\n",
    "    # RobustScaler() = scale features to remove outliers\n",
    "    if use_value_scaler:\n",
    "        trans = RobustScaler()\n",
    "        x = trans.fit_transform(x)\n",
    "\n",
    "    x_train, x_test, y_train, y_test = train_test_split(\n",
    "        x, \n",
    "        y, \n",
    "        test_size=test_size_prop, \n",
    "        random_state=42\n",
    "    ) \n",
    "    \n",
    "    # Technique to de-risk from positive class imbalance\n",
    "    if use_smote:\n",
    "        sm = SMOTE(random_state=42)\n",
    "        x_train, y_train = sm.fit_resample(x_train, y_train)\n",
    "    \n",
    "    return x_train, x_test, y_train, y_test"
   ]
  },
  {
   "cell_type": "markdown",
   "metadata": {},
   "source": [
    "### Function to get performance across different models"
   ]
  },
  {
   "cell_type": "code",
   "execution_count": 7,
   "metadata": {},
   "outputs": [],
   "source": [
    "def get_performance_df(label_actual, label_pred, model_name):\n",
    "    \"\"\"\n",
    "    Function to calculate performance metrics for model.\n",
    "    Includes precision, recal, F1, & support.\n",
    "    \"\"\"\n",
    "    # create classification report\n",
    "    result_table = classification_report(label_actual, label_pred, output_dict=True)\n",
    "    result_table = pd.DataFrame.from_dict(result_table)\n",
    "\n",
    "    # store for later\n",
    "    accuracies = result_table['accuracy']\n",
    "\n",
    "    # rename grouping\n",
    "    result_table.columns = [\n",
    "        'depressed_no',\n",
    "        'depressed_yes',\n",
    "        'accuracy',\n",
    "        'macro_avg',\n",
    "        'weighted_avg'\n",
    "    ]\n",
    "\n",
    "    # create dataframe with 1 row per grouping\n",
    "    result_table.drop(labels = 'accuracy', axis = 1, inplace=True)\n",
    "    result_table = result_table.transpose()\n",
    "    result_table['accuracy'] = list(accuracies)\n",
    "    result_table = result_table.reset_index()\n",
    "    result_table.rename(columns = {'index':'grouping'},inplace=True)\n",
    "    result_table['model'] = model_name\n",
    "    result_table = result_table[['model','grouping','precision','recall','f1-score','support','accuracy']]\n",
    "    return result_table\n",
    "\n",
    "def generate_models(\n",
    "    x_train, \n",
    "    y_train, \n",
    "    x_test, \n",
    "    y_test):\n",
    "    \"\"\"\n",
    "    Function that trains and makes predictions using 5 of the classifiers went over during the class.\n",
    "    Meant as a helper function for easier testing of different modeling pipelines.\n",
    "    \"\"\"\n",
    "\n",
    "    # K-Nearest Neighbors\n",
    "    knn = KNeighborsClassifier()\n",
    "    knn.fit(x_train, y_train)\n",
    "    pred_labels_knn  = knn.predict(x_test)\n",
    "    score_knn = get_performance_df(y_test, pred_labels_knn,'Knn')\n",
    "    \n",
    "    # Logistic Regression\n",
    "    lm = LogisticRegression()\n",
    "    lm.fit(x_train, y_train)\n",
    "    pred_labels_lr  = lm.predict(x_test)\n",
    "    score_lr = get_performance_df(y_test, pred_labels_lr,'Logistic Regression')\n",
    "        \n",
    "    # Bernoulii Naive Bayes\n",
    "    bnb = BernoulliNB()\n",
    "    bnb.fit(x_train, y_train)\n",
    "    pred_labels_bnb  = bnb.predict(x_test)\n",
    "    score_bnb = get_performance_df(y_test, pred_labels_bnb,'Bernoulli Naive Bayes')    \n",
    "        \n",
    "    # Gaussian Naive Bayes\n",
    "    gnb = GaussianNB()\n",
    "    gnb.fit(x_train, y_train)\n",
    "    pred_labels_gnb  = gnb.predict(x_test)\n",
    "    score_gnb = get_performance_df(y_test, pred_labels_gnb,'Gaussian Naive Bayes')    \n",
    "\n",
    "    # Random Forest\n",
    "    rf = RandomForestClassifier(random_state=0)\n",
    "    rf.fit(x_train, y_train)\n",
    "    pred_labels_rf  = rf.predict(x_test)\n",
    "    predictions_posterior_rf = rf.predict_proba(x_test)\n",
    "    score_rf = get_performance_df(y_test, pred_labels_rf,'Random Forest')   \n",
    "    \n",
    "    #Decision Tree\n",
    "    dt = DecisionTreeClassifier()\n",
    "    dt.fit(x_train, y_train)\n",
    "    pred_labels_dt = dt.predict(x_test)\n",
    "    score_dt = get_performance_df(y_test, pred_labels_dt,'Decision Tree')\n",
    "\n",
    "    #Gradient Boosting Classifier\n",
    "    gb = GradientBoostingClassifier()\n",
    "    gb.fit(x_train, y_train)\n",
    "    pred_labels_gb = gb.predict(x_test)\n",
    "    score_gb = get_performance_df(y_test, pred_labels_gb,'Gradient Boosting Classifier')\n",
    "    \n",
    "    # make dataframe with scores\n",
    "    scores = pd.concat([score_knn, score_lr, score_bnb, score_gnb, score_rf, score_dt, score_gb])\n",
    "    scores = scores.sort_values(by = 'recall', ascending=False)\n",
    "\n",
    "    # determine which groupings to include\n",
    "    #if not show_all_groupings:\n",
    "    #    scores = scores[scores['grouping'] == 'macro_avg']\n",
    "        \n",
    "    # make dataframe with predictions\n",
    "    predictions = pd.DataFrame({\n",
    "        'actuals':y_test,\n",
    "        'pred_knn':pred_labels_knn,\n",
    "        'pred_logistic_regression':pred_labels_lr,\n",
    "        'pred_bernoulli_naive_bayes':pred_labels_bnb,\n",
    "        'pred_gaussian_naive_bayes':pred_labels_gnb,\n",
    "        'pred_random_forest':pred_labels_rf,\n",
    "        'pred_decision_tree':pred_labels_dt,\n",
    "        'pred_gradient_boosting_classifier':pred_labels_gb\n",
    "    })\n",
    "\n",
    "    return scores, predictions"
   ]
  },
  {
   "cell_type": "markdown",
   "metadata": {},
   "source": [
    "### Function for Error analysis"
   ]
  },
  {
   "cell_type": "code",
   "execution_count": 171,
   "metadata": {},
   "outputs": [],
   "source": [
    "def plot_confusion_matrix(y_test, pred_labels):\n",
    "    \"\"\"\n",
    "    Function that displays a confusion matrix for provided true and predicted classes\n",
    "    \"\"\"\n",
    "    #print(f'cover type 1 and type 2 total correct {np.sum(np.diag(metrics.confusion_matrix(y_test, pred_labels))[:2])}')\n",
    "\n",
    "    cm = confusion_matrix(y_test, pred_labels)\n",
    "    disp = ConfusionMatrixDisplay(confusion_matrix=cm)\n",
    "    fig, ax = plt.subplots(figsize=(5,5))\n",
    "    disp = disp.plot(include_values=True, cmap='viridis', ax=ax, xticks_rotation='horizontal')    \n",
    "    plt.grid(False)\n",
    "    plt.show()\n",
    "    return\n",
    "\n",
    "def label_pred(row):\n",
    "    \"\"\"\n",
    "    Function that labels prediction cases into TP, TN, FP, FN\n",
    "    \"\"\"\n",
    "    if row['y_actual'] == row['y_pred']:\n",
    "        if row['y_actual'] == 1:\n",
    "            result = 'TP'\n",
    "        else:\n",
    "            result = 'TN'\n",
    "    else: \n",
    "        if row['y_actual'] == 1:\n",
    "            result = 'FN'\n",
    "        else:\n",
    "            result = 'FP'\n",
    "\n",
    "    return result\n",
    "\n",
    "def create_error_plots(\n",
    "    y_actuals,\n",
    "    y_predictions,\n",
    "    x_test_matrix,\n",
    "    x_test_columns,\n",
    "    columns_to_plot,\n",
    "    show_bar_plot=True,\n",
    "    show_density_plot=True):\n",
    "    \"\"\"\n",
    "    Function that creates bi-variate plots comparing TP, TN, FP, FN for each desired feature column.\n",
    "    \"\"\"\n",
    "    \n",
    "    ### Create dataframe of predictions & feature \n",
    "    \n",
    "    # create dataframe with actuals & predictions w/ labels\n",
    "    prediction_labels = pd.DataFrame(columns = ['y_actual','y_pred'])\n",
    "    prediction_labels['y_actual'] = y_actuals\n",
    "    prediction_labels['y_pred'] = y_predictions\n",
    "    prediction_labels['label'] = prediction_labels.apply(label_pred, axis = 1)\n",
    "\n",
    "    # feature df \n",
    "    feature_df = pd.DataFrame(x_test_matrix, columns = x_test_columns)\n",
    "\n",
    "    # combine into 1\n",
    "    pred_data = pd.concat([prediction_labels, feature_df], axis = 1)\n",
    "\n",
    "    ### Bi-variate plots\n",
    "    for column in columns_to_plot:\n",
    "    \n",
    "        if show_density_plot:\n",
    "            ## Density plot\n",
    "            sns.kdeplot(\n",
    "                data=pred_data, \n",
    "                x=column, \n",
    "                hue=\"label\", \n",
    "                cut=0, \n",
    "                common_norm=False, \n",
    "                alpha=0.4\n",
    "            )\n",
    "\n",
    "        if show_bar_plot:\n",
    "            ## barplot\n",
    "            # create % of total column by group\n",
    "            group_data = pred_data.groupby(['label',column])['y_actual'].count().reset_index()\n",
    "            group_data['Pct of Total'] = group_data['y_actual'] / group_data.groupby('label')['y_actual'].transform('sum')\n",
    "\n",
    "            sns.catplot(\n",
    "                data=group_data, \n",
    "                kind=\"bar\",\n",
    "                x=column, \n",
    "                y=\"Pct of Total\", \n",
    "                hue=\"label\",\n",
    "                alpha = 0.8\n",
    "            )\n",
    "\n",
    "        plt.show()\n",
    "        \n",
    "    return pred_data"
   ]
  },
  {
   "cell_type": "markdown",
   "metadata": {},
   "source": [
    "## Baseline Model\n",
    "\n",
    "We start by building baseline models across the 6 classifiers. We start by using the 10 questions from the depression screener questionaire."
   ]
  },
  {
   "cell_type": "code",
   "execution_count": 173,
   "metadata": {},
   "outputs": [
    {
     "name": "stdout",
     "output_type": "stream",
     "text": [
      "(6192, 10)\n",
      "(1549, 10)\n",
      "(6192,)\n",
      "(1549,)\n"
     ]
    },
    {
     "data": {
      "text/html": [
       "<div>\n",
       "<style scoped>\n",
       "    .dataframe tbody tr th:only-of-type {\n",
       "        vertical-align: middle;\n",
       "    }\n",
       "\n",
       "    .dataframe tbody tr th {\n",
       "        vertical-align: top;\n",
       "    }\n",
       "\n",
       "    .dataframe thead th {\n",
       "        text-align: right;\n",
       "    }\n",
       "</style>\n",
       "<table border=\"1\" class=\"dataframe\">\n",
       "  <thead>\n",
       "    <tr style=\"text-align: right;\">\n",
       "      <th></th>\n",
       "      <th>model</th>\n",
       "      <th>recall</th>\n",
       "      <th>f1-score</th>\n",
       "      <th>precision</th>\n",
       "      <th>accuracy</th>\n",
       "    </tr>\n",
       "  </thead>\n",
       "  <tbody>\n",
       "    <tr>\n",
       "      <th>2</th>\n",
       "      <td>Bernoulli Naive Bayes</td>\n",
       "      <td>0.675232</td>\n",
       "      <td>0.632390</td>\n",
       "      <td>0.614506</td>\n",
       "      <td>0.826985</td>\n",
       "    </tr>\n",
       "    <tr>\n",
       "      <th>2</th>\n",
       "      <td>Gaussian Naive Bayes</td>\n",
       "      <td>0.660506</td>\n",
       "      <td>0.633699</td>\n",
       "      <td>0.618641</td>\n",
       "      <td>0.840542</td>\n",
       "    </tr>\n",
       "    <tr>\n",
       "      <th>2</th>\n",
       "      <td>Decision Tree</td>\n",
       "      <td>0.562511</td>\n",
       "      <td>0.572964</td>\n",
       "      <td>0.596242</td>\n",
       "      <td>0.869593</td>\n",
       "    </tr>\n",
       "    <tr>\n",
       "      <th>2</th>\n",
       "      <td>Random Forest</td>\n",
       "      <td>0.543840</td>\n",
       "      <td>0.555191</td>\n",
       "      <td>0.688099</td>\n",
       "      <td>0.896062</td>\n",
       "    </tr>\n",
       "    <tr>\n",
       "      <th>2</th>\n",
       "      <td>Logistic Regression</td>\n",
       "      <td>0.538270</td>\n",
       "      <td>0.546401</td>\n",
       "      <td>0.685605</td>\n",
       "      <td>0.896062</td>\n",
       "    </tr>\n",
       "    <tr>\n",
       "      <th>2</th>\n",
       "      <td>Knn</td>\n",
       "      <td>0.534046</td>\n",
       "      <td>0.539683</td>\n",
       "      <td>0.655004</td>\n",
       "      <td>0.893480</td>\n",
       "    </tr>\n",
       "    <tr>\n",
       "      <th>2</th>\n",
       "      <td>Gradient Boosting Classifier</td>\n",
       "      <td>0.519854</td>\n",
       "      <td>0.513698</td>\n",
       "      <td>0.719752</td>\n",
       "      <td>0.897999</td>\n",
       "    </tr>\n",
       "  </tbody>\n",
       "</table>\n",
       "</div>"
      ],
      "text/plain": [
       "                          model    recall  f1-score  precision  accuracy\n",
       "2         Bernoulli Naive Bayes  0.675232  0.632390   0.614506  0.826985\n",
       "2          Gaussian Naive Bayes  0.660506  0.633699   0.618641  0.840542\n",
       "2                 Decision Tree  0.562511  0.572964   0.596242  0.869593\n",
       "2                 Random Forest  0.543840  0.555191   0.688099  0.896062\n",
       "2           Logistic Regression  0.538270  0.546401   0.685605  0.896062\n",
       "2                           Knn  0.534046  0.539683   0.655004  0.893480\n",
       "2  Gradient Boosting Classifier  0.519854  0.513698   0.719752  0.897999"
      ]
     },
     "execution_count": 173,
     "metadata": {},
     "output_type": "execute_result"
    }
   ],
   "source": [
    "x_train, x_test, y_train, y_test = get_model_data(\n",
    "    original_df = cdc_survey_pmom,\n",
    "    columns = dep_screener_cols\n",
    ")\n",
    "\n",
    "print(x_train.shape)\n",
    "print(x_test.shape)\n",
    "print(y_train.shape)\n",
    "print(y_test.shape)\n",
    "\n",
    "baseline_model, predictions = generate_models(\n",
    "    x_train, \n",
    "    y_train, \n",
    "    x_test, \n",
    "    y_test\n",
    ")\n",
    "\n",
    "baseline_model_summary = baseline_model[baseline_model['grouping'] == 'macro_avg']\n",
    "baseline_model_summary[['model','recall','f1-score','precision','accuracy']]"
   ]
  },
  {
   "cell_type": "markdown",
   "metadata": {},
   "source": [
    "Naive Bayes are the best"
   ]
  },
  {
   "cell_type": "code",
   "execution_count": 174,
   "metadata": {},
   "outputs": [
    {
     "data": {
      "image/png": "[encoded data removed]",
      "text/plain": [
       "<Figure size 473.975x360 with 1 Axes>"
      ]
     },
     "metadata": {
      "needs_background": "light"
     },
     "output_type": "display_data"
    }
   ],
   "source": [
    "sns.catplot(\n",
    "    data=baseline_model, \n",
    "    kind=\"bar\",\n",
    "    x='recall', \n",
    "    y=\"model\", \n",
    "    hue=\"grouping\",\n",
    "    hue_order=['macro_avg','weighted_avg','depressed_no','depressed_yes'],\n",
    "    alpha = 0.8\n",
    ")\n",
    "\n",
    "pass"
   ]
  },
  {
   "cell_type": "code",
   "execution_count": 175,
   "metadata": {},
   "outputs": [
    {
     "data": {
      "image/png": "[encoded data removed]",
      "text/plain": [
       "<Figure size 473.975x360 with 1 Axes>"
      ]
     },
     "metadata": {
      "needs_background": "light"
     },
     "output_type": "display_data"
    }
   ],
   "source": [
    "sns.catplot(\n",
    "    data=baseline_model, \n",
    "    kind=\"bar\",\n",
    "    x='f1-score', \n",
    "    y=\"model\", \n",
    "    hue=\"grouping\",\n",
    "    hue_order=['macro_avg','weighted_avg','depressed_no','depressed_yes'],\n",
    "    alpha = 0.8\n",
    ")\n",
    "\n",
    "pass"
   ]
  },
  {
   "cell_type": "markdown",
   "metadata": {},
   "source": [
    "We see low recall among the depressed_yes group (positive class). This will be the emphasis on future model enhancements."
   ]
  },
  {
   "cell_type": "markdown",
   "metadata": {},
   "source": [
    "## Error Analysis"
   ]
  },
  {
   "cell_type": "code",
   "execution_count": 176,
   "metadata": {},
   "outputs": [
    {
     "data": {
      "image/png": "[encoded data removed]",
      "text/plain": [
       "<Figure size 360x360 with 2 Axes>"
      ]
     },
     "metadata": {
      "needs_background": "light"
     },
     "output_type": "display_data"
    }
   ],
   "source": [
    "cm = confusion_matrix(predictions['actuals'], predictions['pred_bernoulli_naive_bayes'])\n",
    "disp = ConfusionMatrixDisplay(confusion_matrix=cm)\n",
    "fig, ax = plt.subplots(figsize=(5,5))\n",
    "disp = disp.plot(include_values=True, cmap='viridis', ax=ax, xticks_rotation='horizontal')    \n",
    "plt.grid(False)\n",
    "plt.show()"
   ]
  },
  {
   "cell_type": "code",
   "execution_count": 177,
   "metadata": {},
   "outputs": [
    {
     "data": {
      "image/png": "[encoded data removed]",
      "text/plain": [
       "<Figure size 414.35x360 with 1 Axes>"
      ]
     },
     "metadata": {
      "needs_background": "light"
     },
     "output_type": "display_data"
    },
    {
     "data": {
      "image/png": "[encoded data removed]",
      "text/plain": [
       "<Figure size 414.35x360 with 1 Axes>"
      ]
     },
     "metadata": {
      "needs_background": "light"
     },
     "output_type": "display_data"
    },
    {
     "data": {
      "image/png": "[encoded data removed]",
      "text/plain": [
       "<Figure size 414.35x360 with 1 Axes>"
      ]
     },
     "metadata": {
      "needs_background": "light"
     },
     "output_type": "display_data"
    },
    {
     "data": {
      "image/png": "[encoded data removed]",
      "text/plain": [
       "<Figure size 414.35x360 with 1 Axes>"
      ]
     },
     "metadata": {
      "needs_background": "light"
     },
     "output_type": "display_data"
    },
    {
     "data": {
      "image/png": "[encoded data removed]",
      "text/plain": [
       "<Figure size 414.35x360 with 1 Axes>"
      ]
     },
     "metadata": {
      "needs_background": "light"
     },
     "output_type": "display_data"
    },
    {
     "data": {
      "image/png": "[encoded data removed]",
      "text/plain": [
       "<Figure size 414.35x360 with 1 Axes>"
      ]
     },
     "metadata": {
      "needs_background": "light"
     },
     "output_type": "display_data"
    },
    {
     "data": {
      "image/png": "[encoded data removed]",
      "text/plain": [
       "<Figure size 414.35x360 with 1 Axes>"
      ]
     },
     "metadata": {
      "needs_background": "light"
     },
     "output_type": "display_data"
    },
    {
     "data": {
      "image/png": "[encoded data removed]",
      "text/plain": [
       "<Figure size 414.35x360 with 1 Axes>"
      ]
     },
     "metadata": {
      "needs_background": "light"
     },
     "output_type": "display_data"
    },
    {
     "data": {
      "image/png": "[encoded data removed]",
      "text/plain": [
       "<Figure size 414.35x360 with 1 Axes>"
      ]
     },
     "metadata": {
      "needs_background": "light"
     },
     "output_type": "display_data"
    },
    {
     "data": {
      "image/png": "[encoded data removed]",
      "text/plain": [
       "<Figure size 414.35x360 with 1 Axes>"
      ]
     },
     "metadata": {
      "needs_background": "light"
     },
     "output_type": "display_data"
    }
   ],
   "source": [
    "pred_data = create_error_plots(\n",
    "    y_actuals = predictions['actuals'],\n",
    "    y_predictions = predictions['pred_bernoulli_naive_bayes'],\n",
    "    x_test_matrix = x_test,\n",
    "    x_test_columns = dep_screener_cols,\n",
    "    columns_to_plot = dep_screener_cols,\n",
    "    show_density_plot=False\n",
    ")"
   ]
  },
  {
   "cell_type": "markdown",
   "metadata": {},
   "source": [
    "## Feature Importance\n",
    "\n",
    "Find the next several best features to add based on ones where initially strong features have a false read. I.E individual is depressed but imporant column has low value."
   ]
  },
  {
   "cell_type": "code",
   "execution_count": 212,
   "metadata": {},
   "outputs": [],
   "source": [
    "def get_random_forest_n_top_features(train_data=x_train, \n",
    "                                     train_labels=y_train,\n",
    "                                     feature_columns=dep_screener_cols):\n",
    "    \"\"\"\n",
    "    A model that trains a random forest model and returns the feature importances as a dataframe.\n",
    "    The index of the row corresponds to the column index in the initial array\n",
    "    \"\"\"\n",
    "    \n",
    "    # fit random forest and print accuracy\n",
    "    rf = RandomForestClassifier(random_state=0)\n",
    "    rf.fit(train_data, train_labels)\n",
    "   \n",
    "    # list feature importances\n",
    "    # Get numerical feature importances\n",
    "    importances = list(rf.feature_importances_)\n",
    "    feature_importances = pd.DataFrame({'Feature': feature_columns,'Feature Importance (RF)': importances})\n",
    "    feature_importances = feature_importances.sort_values('Feature Importance (RF)',ascending=False)\n",
    "    \n",
    "    return feature_importances"
   ]
  },
  {
   "cell_type": "code",
   "execution_count": 213,
   "metadata": {},
   "outputs": [
    {
     "data": {
      "text/html": [
       "<div>\n",
       "<style scoped>\n",
       "    .dataframe tbody tr th:only-of-type {\n",
       "        vertical-align: middle;\n",
       "    }\n",
       "\n",
       "    .dataframe tbody tr th {\n",
       "        vertical-align: top;\n",
       "    }\n",
       "\n",
       "    .dataframe thead th {\n",
       "        text-align: right;\n",
       "    }\n",
       "</style>\n",
       "<table border=\"1\" class=\"dataframe\">\n",
       "  <thead>\n",
       "    <tr style=\"text-align: right;\">\n",
       "      <th></th>\n",
       "      <th>Feature</th>\n",
       "      <th>Feature Importance (RF)</th>\n",
       "    </tr>\n",
       "  </thead>\n",
       "  <tbody>\n",
       "    <tr>\n",
       "      <th>1</th>\n",
       "      <td>feeling_down_depressed_hopeless</td>\n",
       "      <td>0.116370</td>\n",
       "    </tr>\n",
       "    <tr>\n",
       "      <th>4</th>\n",
       "      <td>poor_appetitie_or_overeating</td>\n",
       "      <td>0.116036</td>\n",
       "    </tr>\n",
       "    <tr>\n",
       "      <th>2</th>\n",
       "      <td>trouble_falling_or_staying_asleep</td>\n",
       "      <td>0.113776</td>\n",
       "    </tr>\n",
       "    <tr>\n",
       "      <th>6</th>\n",
       "      <td>trouble_concentrating</td>\n",
       "      <td>0.107036</td>\n",
       "    </tr>\n",
       "    <tr>\n",
       "      <th>9</th>\n",
       "      <td>difficult_doing_daytoday_tasks</td>\n",
       "      <td>0.105663</td>\n",
       "    </tr>\n",
       "    <tr>\n",
       "      <th>0</th>\n",
       "      <td>little_interest_in_doing_things</td>\n",
       "      <td>0.105246</td>\n",
       "    </tr>\n",
       "    <tr>\n",
       "      <th>3</th>\n",
       "      <td>feeling_tired_or_having_little_energy</td>\n",
       "      <td>0.104398</td>\n",
       "    </tr>\n",
       "    <tr>\n",
       "      <th>5</th>\n",
       "      <td>feeling_bad_about_yourself</td>\n",
       "      <td>0.099671</td>\n",
       "    </tr>\n",
       "    <tr>\n",
       "      <th>7</th>\n",
       "      <td>moving_or_speaking_to_slowly_or_fast</td>\n",
       "      <td>0.088079</td>\n",
       "    </tr>\n",
       "    <tr>\n",
       "      <th>8</th>\n",
       "      <td>thoughts_you_would_be_better_off_dead</td>\n",
       "      <td>0.043725</td>\n",
       "    </tr>\n",
       "  </tbody>\n",
       "</table>\n",
       "</div>"
      ],
      "text/plain": [
       "                                 Feature  Feature Importance (RF)\n",
       "1        feeling_down_depressed_hopeless                 0.116370\n",
       "4           poor_appetitie_or_overeating                 0.116036\n",
       "2      trouble_falling_or_staying_asleep                 0.113776\n",
       "6                  trouble_concentrating                 0.107036\n",
       "9         difficult_doing_daytoday_tasks                 0.105663\n",
       "0        little_interest_in_doing_things                 0.105246\n",
       "3  feeling_tired_or_having_little_energy                 0.104398\n",
       "5             feeling_bad_about_yourself                 0.099671\n",
       "7   moving_or_speaking_to_slowly_or_fast                 0.088079\n",
       "8  thoughts_you_would_be_better_off_dead                 0.043725"
      ]
     },
     "execution_count": 213,
     "metadata": {},
     "output_type": "execute_result"
    }
   ],
   "source": [
    "rf_feature_importances = get_random_forest_n_top_features()\n",
    "rf_feature_importances"
   ]
  },
  {
   "cell_type": "code",
   "execution_count": 220,
   "metadata": {},
   "outputs": [
    {
     "data": {
      "text/html": [
       "<div>\n",
       "<style scoped>\n",
       "    .dataframe tbody tr th:only-of-type {\n",
       "        vertical-align: middle;\n",
       "    }\n",
       "\n",
       "    .dataframe tbody tr th {\n",
       "        vertical-align: top;\n",
       "    }\n",
       "\n",
       "    .dataframe thead th {\n",
       "        text-align: right;\n",
       "    }\n",
       "</style>\n",
       "<table border=\"1\" class=\"dataframe\">\n",
       "  <thead>\n",
       "    <tr style=\"text-align: right;\">\n",
       "      <th></th>\n",
       "      <th>Feature</th>\n",
       "      <th>TP</th>\n",
       "      <th>FP</th>\n",
       "      <th>TN</th>\n",
       "      <th>FN</th>\n",
       "      <th>Feature Importance (RF)</th>\n",
       "    </tr>\n",
       "  </thead>\n",
       "  <tbody>\n",
       "    <tr>\n",
       "      <th>4</th>\n",
       "      <td>feeling_down_depressed_hopeless</td>\n",
       "      <td>1.68</td>\n",
       "      <td>1.53</td>\n",
       "      <td>0.15</td>\n",
       "      <td>0.34</td>\n",
       "      <td>0.116370</td>\n",
       "    </tr>\n",
       "    <tr>\n",
       "      <th>7</th>\n",
       "      <td>poor_appetitie_or_overeating</td>\n",
       "      <td>1.55</td>\n",
       "      <td>1.41</td>\n",
       "      <td>0.32</td>\n",
       "      <td>0.41</td>\n",
       "      <td>0.116036</td>\n",
       "    </tr>\n",
       "    <tr>\n",
       "      <th>5</th>\n",
       "      <td>trouble_falling_or_staying_asleep</td>\n",
       "      <td>1.77</td>\n",
       "      <td>1.69</td>\n",
       "      <td>0.48</td>\n",
       "      <td>0.61</td>\n",
       "      <td>0.113776</td>\n",
       "    </tr>\n",
       "    <tr>\n",
       "      <th>9</th>\n",
       "      <td>trouble_concentrating</td>\n",
       "      <td>1.57</td>\n",
       "      <td>1.13</td>\n",
       "      <td>0.13</td>\n",
       "      <td>0.24</td>\n",
       "      <td>0.107036</td>\n",
       "    </tr>\n",
       "    <tr>\n",
       "      <th>12</th>\n",
       "      <td>difficult_doing_daytoday_tasks</td>\n",
       "      <td>1.34</td>\n",
       "      <td>1.03</td>\n",
       "      <td>0.08</td>\n",
       "      <td>0.12</td>\n",
       "      <td>0.105663</td>\n",
       "    </tr>\n",
       "    <tr>\n",
       "      <th>3</th>\n",
       "      <td>little_interest_in_doing_things</td>\n",
       "      <td>1.57</td>\n",
       "      <td>1.37</td>\n",
       "      <td>0.21</td>\n",
       "      <td>0.22</td>\n",
       "      <td>0.105246</td>\n",
       "    </tr>\n",
       "    <tr>\n",
       "      <th>6</th>\n",
       "      <td>feeling_tired_or_having_little_energy</td>\n",
       "      <td>1.19</td>\n",
       "      <td>0.99</td>\n",
       "      <td>-0.34</td>\n",
       "      <td>0.01</td>\n",
       "      <td>0.104398</td>\n",
       "    </tr>\n",
       "    <tr>\n",
       "      <th>8</th>\n",
       "      <td>feeling_bad_about_yourself</td>\n",
       "      <td>1.32</td>\n",
       "      <td>1.17</td>\n",
       "      <td>0.09</td>\n",
       "      <td>0.1</td>\n",
       "      <td>0.099671</td>\n",
       "    </tr>\n",
       "    <tr>\n",
       "      <th>10</th>\n",
       "      <td>moving_or_speaking_to_slowly_or_fast</td>\n",
       "      <td>0.73</td>\n",
       "      <td>0.76</td>\n",
       "      <td>0.06</td>\n",
       "      <td>0.04</td>\n",
       "      <td>0.088079</td>\n",
       "    </tr>\n",
       "    <tr>\n",
       "      <th>11</th>\n",
       "      <td>thoughts_you_would_be_better_off_dead</td>\n",
       "      <td>0.3</td>\n",
       "      <td>0.22</td>\n",
       "      <td>0.01</td>\n",
       "      <td>0.0</td>\n",
       "      <td>0.043725</td>\n",
       "    </tr>\n",
       "    <tr>\n",
       "      <th>0</th>\n",
       "      <td>label</td>\n",
       "      <td>TP</td>\n",
       "      <td>FP</td>\n",
       "      <td>TN</td>\n",
       "      <td>FN</td>\n",
       "      <td>NaN</td>\n",
       "    </tr>\n",
       "  </tbody>\n",
       "</table>\n",
       "</div>"
      ],
      "text/plain": [
       "                                  Feature    TP    FP    TN    FN  \\\n",
       "4         feeling_down_depressed_hopeless  1.68  1.53  0.15  0.34   \n",
       "7            poor_appetitie_or_overeating  1.55  1.41  0.32  0.41   \n",
       "5       trouble_falling_or_staying_asleep  1.77  1.69  0.48  0.61   \n",
       "9                   trouble_concentrating  1.57  1.13  0.13  0.24   \n",
       "12         difficult_doing_daytoday_tasks  1.34  1.03  0.08  0.12   \n",
       "3         little_interest_in_doing_things  1.57  1.37  0.21  0.22   \n",
       "6   feeling_tired_or_having_little_energy  1.19  0.99 -0.34  0.01   \n",
       "8              feeling_bad_about_yourself  1.32  1.17  0.09   0.1   \n",
       "10   moving_or_speaking_to_slowly_or_fast  0.73  0.76  0.06  0.04   \n",
       "11  thoughts_you_would_be_better_off_dead   0.3  0.22  0.01   0.0   \n",
       "0                                   label    TP    FP    TN    FN   \n",
       "\n",
       "    Feature Importance (RF)  \n",
       "4                  0.116370  \n",
       "7                  0.116036  \n",
       "5                  0.113776  \n",
       "9                  0.107036  \n",
       "12                 0.105663  \n",
       "3                  0.105246  \n",
       "6                  0.104398  \n",
       "8                  0.099671  \n",
       "10                 0.088079  \n",
       "11                 0.043725  \n",
       "0                       NaN  "
      ]
     },
     "execution_count": 220,
     "metadata": {},
     "output_type": "execute_result"
    }
   ],
   "source": [
    "pred_data_summary = pred_data.groupby(['label']).mean().round(2).reset_index()\n",
    "\n",
    "pred_data_summary['label'] = pd.Categorical(pred_data_summary['label'], \n",
    "                      categories=[\"TP\",\"FP\",\"TN\",\"FN\"],\n",
    "                      ordered=True)\n",
    "pred_data_summary.sort_values('label', inplace=True)\n",
    "pred_data_summary = pred_data_summary.T.reset_index()\n",
    "\n",
    "\n",
    "pred_data_summary = pred_data_summary.merge(rf_feature_importances, left_on='index', right_on='Feature', how = 'left')\n",
    "pred_data_summary.drop(columns='Feature', inplace=True)\n",
    "pred_data_summary.drop(labels=[1,2], axis=0, inplace=True)\n",
    "pred_data_summary = pred_data_summary.sort_values(by='Feature Importance (RF)',ascending=False)\n",
    "pred_data_summary.rename(columns={\"index\": \"Feature\", \n",
    "                                  3: \"TP\",\n",
    "                                  1:\"FP\",\n",
    "                                  2:\"TN\",\n",
    "                                  0:\"FN\"})\n"
   ]
  },
  {
   "cell_type": "code",
   "execution_count": 29,
   "metadata": {},
   "outputs": [
    {
     "name": "stdout",
     "output_type": "stream",
     "text": [
      "little_interest_in_doing_things\n",
      "0.0    0.059163\n",
      "1.0    0.166320\n",
      "2.0    0.179601\n",
      "3.0    0.258706\n",
      "Name: MDD, dtype: float64\n",
      "feeling_down_depressed_hopeless\n",
      "0.0    0.050074\n",
      "1.0    0.175738\n",
      "2.0    0.225316\n",
      "3.0    0.351097\n",
      "Name: MDD, dtype: float64\n",
      "trouble_falling_or_staying_asleep\n",
      "0.0    0.059644\n",
      "1.0    0.108974\n",
      "2.0    0.170103\n",
      "3.0    0.210651\n",
      "Name: MDD, dtype: float64\n",
      "feeling_tired_or_having_little_energy\n",
      "0.0    0.041215\n",
      "1.0    0.095186\n",
      "2.0    0.146310\n",
      "3.0    0.257492\n",
      "Name: MDD, dtype: float64\n",
      "poor_appetitie_or_overeating\n",
      "0.0    0.064676\n",
      "1.0    0.134349\n",
      "2.0    0.167002\n",
      "3.0    0.263048\n",
      "Name: MDD, dtype: float64\n",
      "feeling_bad_about_yourself\n",
      "0.0    0.065326\n",
      "1.0    0.207330\n",
      "2.0    0.221311\n",
      "3.0    0.324324\n",
      "Name: MDD, dtype: float64\n",
      "trouble_concentrating\n",
      "0.0    0.067895\n",
      "1.0    0.184932\n",
      "2.0    0.232082\n",
      "3.0    0.287926\n",
      "Name: MDD, dtype: float64\n",
      "moving_or_speaking_to_slowly_or_fast\n",
      "0.0    0.080914\n",
      "1.0    0.204159\n",
      "2.0    0.206897\n",
      "3.0    0.276730\n",
      "Name: MDD, dtype: float64\n",
      "thoughts_you_would_be_better_off_dead\n",
      "0.0    0.088590\n",
      "1.0    0.276786\n",
      "2.0    0.355556\n",
      "3.0    0.294118\n",
      "Name: MDD, dtype: float64\n",
      "difficult_doing_daytoday_tasks\n",
      "0.0    0.074218\n",
      "1.0    0.213142\n",
      "2.0    0.316964\n",
      "3.0    0.435644\n",
      "Name: MDD, dtype: float64\n"
     ]
    }
   ],
   "source": [
    "for col in dep_screener_cols:\n",
    "    print(cdc_survey_pmom.groupby([col])['MDD'].mean())"
   ]
  },
  {
   "cell_type": "code",
   "execution_count": 126,
   "metadata": {},
   "outputs": [],
   "source": [
    "cor_columns = candidate_features.copy()\n",
    "cor_columns.append('MDD')\n",
    "\n",
    "# find columns where top feature is 0\n",
    "#df_to_use = cdc_survey_pmom[cdc_survey_pmom['feeling_down_depressed_hopeless'] == 0]\n",
    "df_to_use = cdc_survey_pmom[(cdc_survey_pmom['feeling_down_depressed_hopeless'] == 0) & \n",
    "                (cdc_survey_pmom['poor_appetitie_or_overeating'] == 0) &\n",
    "                (cdc_survey_pmom['trouble_falling_or_staying_asleep'] == 0)]\n",
    "\n",
    "correlation_matrix = df_to_use[cor_columns].corr(method='pearson')\n",
    "correlation_values_abs = abs(correlation_matrix['MDD']).sort_values(ascending=False)\n",
    "correlation_values_abs = correlation_values_abs[correlation_values_abs.notna()]"
   ]
  },
  {
   "cell_type": "code",
   "execution_count": 136,
   "metadata": {},
   "outputs": [
    {
     "data": {
      "text/plain": [
       "['seen_mental_health_professional',\n",
       " 'times_with_12plus_alc',\n",
       " 'duration_last_healthcare_visit',\n",
       " 'time_since_last_healthcare',\n",
       " 'horomones_not_bc',\n",
       " 'count_days_seen_doctor_12mo',\n",
       " 'count_lost_10plus_pounds',\n",
       " 'respiratory_issues',\n",
       " 'arthritis',\n",
       " 'age_in_years',\n",
       " 'is_usa_born',\n",
       " 'regular_periods',\n",
       " 'high_bp',\n",
       " 'metal_objects',\n",
       " 'count_minutes_moderate_sedentary_activity',\n",
       " 'cholesterol_prescription',\n",
       " 'chest_discomfort',\n",
       " 'emergency_food_received']"
      ]
     },
     "execution_count": 136,
     "metadata": {},
     "output_type": "execute_result"
    }
   ],
   "source": [
    "top_additional_candidates = list(correlation_values_abs[1:20].index)\n",
    "top_additional_candidates = [col for col in top_additional_candidates if col not in dep_screener_cols]\n",
    "top_additional_candidates"
   ]
  },
  {
   "cell_type": "code",
   "execution_count": 137,
   "metadata": {},
   "outputs": [
    {
     "name": "stdout",
     "output_type": "stream",
     "text": [
      "(6192, 28)\n",
      "(1549, 28)\n",
      "(6192,)\n",
      "(1549,)\n"
     ]
    },
    {
     "data": {
      "text/html": [
       "<div>\n",
       "<style scoped>\n",
       "    .dataframe tbody tr th:only-of-type {\n",
       "        vertical-align: middle;\n",
       "    }\n",
       "\n",
       "    .dataframe tbody tr th {\n",
       "        vertical-align: top;\n",
       "    }\n",
       "\n",
       "    .dataframe thead th {\n",
       "        text-align: right;\n",
       "    }\n",
       "</style>\n",
       "<table border=\"1\" class=\"dataframe\">\n",
       "  <thead>\n",
       "    <tr style=\"text-align: right;\">\n",
       "      <th></th>\n",
       "      <th>model</th>\n",
       "      <th>recall</th>\n",
       "      <th>f1-score</th>\n",
       "      <th>precision</th>\n",
       "      <th>accuracy</th>\n",
       "    </tr>\n",
       "  </thead>\n",
       "  <tbody>\n",
       "    <tr>\n",
       "      <th>2</th>\n",
       "      <td>Gaussian Naive Bayes</td>\n",
       "      <td>0.715556</td>\n",
       "      <td>0.635737</td>\n",
       "      <td>0.616888</td>\n",
       "      <td>0.804390</td>\n",
       "    </tr>\n",
       "    <tr>\n",
       "      <th>2</th>\n",
       "      <td>Bernoulli Naive Bayes</td>\n",
       "      <td>0.678110</td>\n",
       "      <td>0.637555</td>\n",
       "      <td>0.619296</td>\n",
       "      <td>0.832150</td>\n",
       "    </tr>\n",
       "    <tr>\n",
       "      <th>2</th>\n",
       "      <td>Decision Tree</td>\n",
       "      <td>0.581449</td>\n",
       "      <td>0.578302</td>\n",
       "      <td>0.575619</td>\n",
       "      <td>0.838606</td>\n",
       "    </tr>\n",
       "    <tr>\n",
       "      <th>2</th>\n",
       "      <td>Logistic Regression</td>\n",
       "      <td>0.569624</td>\n",
       "      <td>0.592099</td>\n",
       "      <td>0.705304</td>\n",
       "      <td>0.897353</td>\n",
       "    </tr>\n",
       "    <tr>\n",
       "      <th>2</th>\n",
       "      <td>Gradient Boosting Classifier</td>\n",
       "      <td>0.564773</td>\n",
       "      <td>0.586185</td>\n",
       "      <td>0.716181</td>\n",
       "      <td>0.898644</td>\n",
       "    </tr>\n",
       "    <tr>\n",
       "      <th>2</th>\n",
       "      <td>Random Forest</td>\n",
       "      <td>0.548783</td>\n",
       "      <td>0.563306</td>\n",
       "      <td>0.736592</td>\n",
       "      <td>0.899935</td>\n",
       "    </tr>\n",
       "    <tr>\n",
       "      <th>2</th>\n",
       "      <td>Knn</td>\n",
       "      <td>0.543480</td>\n",
       "      <td>0.554582</td>\n",
       "      <td>0.681346</td>\n",
       "      <td>0.895416</td>\n",
       "    </tr>\n",
       "  </tbody>\n",
       "</table>\n",
       "</div>"
      ],
      "text/plain": [
       "                          model    recall  f1-score  precision  accuracy\n",
       "2          Gaussian Naive Bayes  0.715556  0.635737   0.616888  0.804390\n",
       "2         Bernoulli Naive Bayes  0.678110  0.637555   0.619296  0.832150\n",
       "2                 Decision Tree  0.581449  0.578302   0.575619  0.838606\n",
       "2           Logistic Regression  0.569624  0.592099   0.705304  0.897353\n",
       "2  Gradient Boosting Classifier  0.564773  0.586185   0.716181  0.898644\n",
       "2                 Random Forest  0.548783  0.563306   0.736592  0.899935\n",
       "2                           Knn  0.543480  0.554582   0.681346  0.895416"
      ]
     },
     "execution_count": 137,
     "metadata": {},
     "output_type": "execute_result"
    }
   ],
   "source": [
    "x_train, x_test, y_train, y_test = get_model_data(\n",
    "    original_df = cdc_survey_pmom,\n",
    "    columns = dep_screener_cols + top_additional_candidates\n",
    ")\n",
    "\n",
    "print(x_train.shape)\n",
    "print(x_test.shape)\n",
    "print(y_train.shape)\n",
    "print(y_test.shape)\n",
    "\n",
    "baseline_model, predictions = generate_models(\n",
    "    x_train, \n",
    "    y_train, \n",
    "    x_test, \n",
    "    y_test\n",
    ")\n",
    "\n",
    "baseline_model_summary = baseline_model[baseline_model['grouping'] == 'macro_avg']\n",
    "baseline_model_summary[['model','recall','f1-score','precision','accuracy']]"
   ]
  },
  {
   "cell_type": "code",
   "execution_count": 138,
   "metadata": {},
   "outputs": [
    {
     "data": {
      "image/png": "[encoded data removed]",
      "text/plain": [
       "<Figure size 473.975x360 with 1 Axes>"
      ]
     },
     "metadata": {
      "needs_background": "light"
     },
     "output_type": "display_data"
    }
   ],
   "source": [
    "sns.catplot(\n",
    "    data=baseline_model, \n",
    "    kind=\"bar\",\n",
    "    x='recall', \n",
    "    y=\"model\", \n",
    "    hue=\"grouping\",\n",
    "    hue_order=['macro_avg','weighted_avg','depressed_no','depressed_yes'],\n",
    "    alpha = 0.8\n",
    ")\n",
    "\n",
    "pass"
   ]
  },
  {
   "cell_type": "code",
   "execution_count": 156,
   "metadata": {},
   "outputs": [],
   "source": [
    "cdc_survey_pmom['num_dep_screener_3'] = (cdc_survey_pmom[dep_screener_cols]>=3).sum(axis=1)\n",
    "cdc_survey_pmom['num_dep_screener_3_bin'] = pd.cut(\n",
    "    cdc_survey_pmom['num_dep_screener_3'], \n",
    "    bins=[-np.inf, 0, 1, 3, np.inf], \n",
    "    labels=[0, 1, 2 ,3]\n",
    ")"
   ]
  },
  {
   "cell_type": "code",
   "execution_count": 153,
   "metadata": {},
   "outputs": [
    {
     "data": {
      "text/plain": [
       "num_dep_screener_3\n",
       "0     0.065739\n",
       "1     0.119420\n",
       "2     0.248744\n",
       "3     0.251337\n",
       "4     0.305785\n",
       "5     0.380282\n",
       "6     0.400000\n",
       "7     0.484848\n",
       "8     0.250000\n",
       "9     0.444444\n",
       "10    0.500000\n",
       "Name: MDD, dtype: float64"
      ]
     },
     "execution_count": 153,
     "metadata": {},
     "output_type": "execute_result"
    }
   ],
   "source": [
    "cdc_survey_pmom.groupby('num_dep_screener_3')['MDD'].mean()"
   ]
  },
  {
   "cell_type": "code",
   "execution_count": 157,
   "metadata": {},
   "outputs": [
    {
     "data": {
      "text/plain": [
       "num_dep_screener_3_bin\n",
       "0    0.065739\n",
       "1    0.119420\n",
       "2    0.249573\n",
       "3    0.360269\n",
       "Name: MDD, dtype: float64"
      ]
     },
     "execution_count": 157,
     "metadata": {},
     "output_type": "execute_result"
    }
   ],
   "source": [
    "cdc_survey_pmom.groupby('num_dep_screener_3_bin')['MDD'].mean()"
   ]
  },
  {
   "cell_type": "code",
   "execution_count": 158,
   "metadata": {},
   "outputs": [
    {
     "data": {
      "text/plain": [
       "num_dep_screener_3_bin\n",
       "0     0\n",
       "1     1\n",
       "2     3\n",
       "3    10\n",
       "Name: num_dep_screener_3, dtype: int64"
      ]
     },
     "execution_count": 158,
     "metadata": {},
     "output_type": "execute_result"
    }
   ],
   "source": [
    "cdc_survey_pmom.groupby('num_dep_screener_3_bin')['num_dep_screener_3'].max()"
   ]
  },
  {
   "cell_type": "code",
   "execution_count": 165,
   "metadata": {},
   "outputs": [
    {
     "name": "stdout",
     "output_type": "stream",
     "text": [
      "(6192, 29)\n",
      "(1549, 29)\n",
      "(6192,)\n",
      "(1549,)\n"
     ]
    },
    {
     "data": {
      "text/html": [
       "<div>\n",
       "<style scoped>\n",
       "    .dataframe tbody tr th:only-of-type {\n",
       "        vertical-align: middle;\n",
       "    }\n",
       "\n",
       "    .dataframe tbody tr th {\n",
       "        vertical-align: top;\n",
       "    }\n",
       "\n",
       "    .dataframe thead th {\n",
       "        text-align: right;\n",
       "    }\n",
       "</style>\n",
       "<table border=\"1\" class=\"dataframe\">\n",
       "  <thead>\n",
       "    <tr style=\"text-align: right;\">\n",
       "      <th></th>\n",
       "      <th>model</th>\n",
       "      <th>recall</th>\n",
       "      <th>f1-score</th>\n",
       "      <th>precision</th>\n",
       "      <th>accuracy</th>\n",
       "    </tr>\n",
       "  </thead>\n",
       "  <tbody>\n",
       "    <tr>\n",
       "      <th>2</th>\n",
       "      <td>Gaussian Naive Bayes</td>\n",
       "      <td>0.719420</td>\n",
       "      <td>0.638753</td>\n",
       "      <td>0.619241</td>\n",
       "      <td>0.806327</td>\n",
       "    </tr>\n",
       "    <tr>\n",
       "      <th>2</th>\n",
       "      <td>Bernoulli Naive Bayes</td>\n",
       "      <td>0.679003</td>\n",
       "      <td>0.632114</td>\n",
       "      <td>0.613897</td>\n",
       "      <td>0.823757</td>\n",
       "    </tr>\n",
       "    <tr>\n",
       "      <th>2</th>\n",
       "      <td>Decision Tree</td>\n",
       "      <td>0.578490</td>\n",
       "      <td>0.580026</td>\n",
       "      <td>0.581693</td>\n",
       "      <td>0.848289</td>\n",
       "    </tr>\n",
       "    <tr>\n",
       "      <th>2</th>\n",
       "      <td>Logistic Regression</td>\n",
       "      <td>0.572408</td>\n",
       "      <td>0.595686</td>\n",
       "      <td>0.705578</td>\n",
       "      <td>0.897353</td>\n",
       "    </tr>\n",
       "    <tr>\n",
       "      <th>2</th>\n",
       "      <td>Gradient Boosting Classifier</td>\n",
       "      <td>0.554260</td>\n",
       "      <td>0.570370</td>\n",
       "      <td>0.681093</td>\n",
       "      <td>0.894771</td>\n",
       "    </tr>\n",
       "    <tr>\n",
       "      <th>2</th>\n",
       "      <td>Random Forest</td>\n",
       "      <td>0.551568</td>\n",
       "      <td>0.567581</td>\n",
       "      <td>0.734777</td>\n",
       "      <td>0.899935</td>\n",
       "    </tr>\n",
       "    <tr>\n",
       "      <th>2</th>\n",
       "      <td>Knn</td>\n",
       "      <td>0.543840</td>\n",
       "      <td>0.555191</td>\n",
       "      <td>0.688099</td>\n",
       "      <td>0.896062</td>\n",
       "    </tr>\n",
       "  </tbody>\n",
       "</table>\n",
       "</div>"
      ],
      "text/plain": [
       "                          model    recall  f1-score  precision  accuracy\n",
       "2          Gaussian Naive Bayes  0.719420  0.638753   0.619241  0.806327\n",
       "2         Bernoulli Naive Bayes  0.679003  0.632114   0.613897  0.823757\n",
       "2                 Decision Tree  0.578490  0.580026   0.581693  0.848289\n",
       "2           Logistic Regression  0.572408  0.595686   0.705578  0.897353\n",
       "2  Gradient Boosting Classifier  0.554260  0.570370   0.681093  0.894771\n",
       "2                 Random Forest  0.551568  0.567581   0.734777  0.899935\n",
       "2                           Knn  0.543840  0.555191   0.688099  0.896062"
      ]
     },
     "execution_count": 165,
     "metadata": {},
     "output_type": "execute_result"
    }
   ],
   "source": [
    "x_train, x_test, y_train, y_test = get_model_data(\n",
    "    original_df = cdc_survey_pmom,\n",
    "    columns = dep_screener_cols + top_additional_candidates + ['num_dep_screener_3_bin']\n",
    ")\n",
    "\n",
    "print(x_train.shape)\n",
    "print(x_test.shape)\n",
    "print(y_train.shape)\n",
    "print(y_test.shape)\n",
    "\n",
    "baseline_model, predictions = generate_models(\n",
    "    x_train, \n",
    "    y_train, \n",
    "    x_test, \n",
    "    y_test\n",
    ")\n",
    "\n",
    "baseline_model_summary = baseline_model[baseline_model['grouping'] == 'macro_avg']\n",
    "baseline_model_summary[['model','recall','f1-score','precision','accuracy']]"
   ]
  },
  {
   "cell_type": "code",
   "execution_count": 163,
   "metadata": {},
   "outputs": [
    {
     "data": {
      "image/png": "[encoded data removed]",
      "text/plain": [
       "<Figure size 473.975x360 with 1 Axes>"
      ]
     },
     "metadata": {
      "needs_background": "light"
     },
     "output_type": "display_data"
    }
   ],
   "source": [
    "sns.catplot(\n",
    "    data=baseline_model, \n",
    "    kind=\"bar\",\n",
    "    x='recall', \n",
    "    y=\"model\", \n",
    "    hue=\"grouping\",\n",
    "    hue_order=['macro_avg','weighted_avg','depressed_no','depressed_yes'],\n",
    "    alpha = 0.8\n",
    ")\n",
    "\n",
    "pass"
   ]
  },
  {
   "cell_type": "markdown",
   "metadata": {},
   "source": [
    "## Prediction Probability"
   ]
  },
  {
   "cell_type": "code",
   "execution_count": 170,
   "metadata": {},
   "outputs": [
    {
     "data": {
      "text/plain": [
       "1549"
      ]
     },
     "execution_count": 170,
     "metadata": {},
     "output_type": "execute_result"
    }
   ],
   "source": [
    "# Gaussian Naive Bayes\n",
    "gnb = GaussianNB()\n",
    "gnb.fit(x_train, y_train)\n",
    "len(gnb.predict_proba(x_test)[:,0])"
   ]
  },
  {
   "cell_type": "code",
   "execution_count": 169,
   "metadata": {},
   "outputs": [],
   "source": [
    "gnb_probability = pd.DataFrame(gnb.predict_proba(x_test))"
   ]
  },
  {
   "cell_type": "markdown",
   "metadata": {},
   "source": [
    "## MISC"
   ]
  },
  {
   "cell_type": "code",
   "execution_count": 20,
   "metadata": {},
   "outputs": [
    {
     "data": {
      "text/html": [
       "<div>\n",
       "<style scoped>\n",
       "    .dataframe tbody tr th:only-of-type {\n",
       "        vertical-align: middle;\n",
       "    }\n",
       "\n",
       "    .dataframe tbody tr th {\n",
       "        vertical-align: top;\n",
       "    }\n",
       "\n",
       "    .dataframe thead th {\n",
       "        text-align: right;\n",
       "    }\n",
       "</style>\n",
       "<table border=\"1\" class=\"dataframe\">\n",
       "  <thead>\n",
       "    <tr style=\"text-align: right;\">\n",
       "      <th></th>\n",
       "      <th>actuals</th>\n",
       "      <th>pred_knn</th>\n",
       "      <th>pred_logistic_regression</th>\n",
       "      <th>pred_bernoulli_naive_bayes</th>\n",
       "      <th>pred_gaussian_naive_bayes</th>\n",
       "      <th>pred_random_forest</th>\n",
       "      <th>pred_decision_tree</th>\n",
       "      <th>pred_gradient_boosting_classifier</th>\n",
       "    </tr>\n",
       "  </thead>\n",
       "  <tbody>\n",
       "    <tr>\n",
       "      <th>0</th>\n",
       "      <td>1</td>\n",
       "      <td>0</td>\n",
       "      <td>0</td>\n",
       "      <td>0</td>\n",
       "      <td>0</td>\n",
       "      <td>0</td>\n",
       "      <td>0</td>\n",
       "      <td>0</td>\n",
       "    </tr>\n",
       "    <tr>\n",
       "      <th>1</th>\n",
       "      <td>0</td>\n",
       "      <td>0</td>\n",
       "      <td>0</td>\n",
       "      <td>0</td>\n",
       "      <td>0</td>\n",
       "      <td>0</td>\n",
       "      <td>0</td>\n",
       "      <td>0</td>\n",
       "    </tr>\n",
       "    <tr>\n",
       "      <th>2</th>\n",
       "      <td>0</td>\n",
       "      <td>0</td>\n",
       "      <td>0</td>\n",
       "      <td>0</td>\n",
       "      <td>0</td>\n",
       "      <td>0</td>\n",
       "      <td>0</td>\n",
       "      <td>0</td>\n",
       "    </tr>\n",
       "    <tr>\n",
       "      <th>3</th>\n",
       "      <td>0</td>\n",
       "      <td>0</td>\n",
       "      <td>0</td>\n",
       "      <td>0</td>\n",
       "      <td>0</td>\n",
       "      <td>0</td>\n",
       "      <td>0</td>\n",
       "      <td>0</td>\n",
       "    </tr>\n",
       "    <tr>\n",
       "      <th>4</th>\n",
       "      <td>0</td>\n",
       "      <td>0</td>\n",
       "      <td>0</td>\n",
       "      <td>0</td>\n",
       "      <td>0</td>\n",
       "      <td>0</td>\n",
       "      <td>0</td>\n",
       "      <td>0</td>\n",
       "    </tr>\n",
       "    <tr>\n",
       "      <th>...</th>\n",
       "      <td>...</td>\n",
       "      <td>...</td>\n",
       "      <td>...</td>\n",
       "      <td>...</td>\n",
       "      <td>...</td>\n",
       "      <td>...</td>\n",
       "      <td>...</td>\n",
       "      <td>...</td>\n",
       "    </tr>\n",
       "    <tr>\n",
       "      <th>1544</th>\n",
       "      <td>0</td>\n",
       "      <td>0</td>\n",
       "      <td>0</td>\n",
       "      <td>0</td>\n",
       "      <td>0</td>\n",
       "      <td>0</td>\n",
       "      <td>0</td>\n",
       "      <td>0</td>\n",
       "    </tr>\n",
       "    <tr>\n",
       "      <th>1545</th>\n",
       "      <td>0</td>\n",
       "      <td>0</td>\n",
       "      <td>0</td>\n",
       "      <td>0</td>\n",
       "      <td>0</td>\n",
       "      <td>0</td>\n",
       "      <td>0</td>\n",
       "      <td>0</td>\n",
       "    </tr>\n",
       "    <tr>\n",
       "      <th>1546</th>\n",
       "      <td>0</td>\n",
       "      <td>0</td>\n",
       "      <td>0</td>\n",
       "      <td>0</td>\n",
       "      <td>0</td>\n",
       "      <td>0</td>\n",
       "      <td>0</td>\n",
       "      <td>0</td>\n",
       "    </tr>\n",
       "    <tr>\n",
       "      <th>1547</th>\n",
       "      <td>1</td>\n",
       "      <td>0</td>\n",
       "      <td>0</td>\n",
       "      <td>0</td>\n",
       "      <td>1</td>\n",
       "      <td>1</td>\n",
       "      <td>1</td>\n",
       "      <td>0</td>\n",
       "    </tr>\n",
       "    <tr>\n",
       "      <th>1548</th>\n",
       "      <td>0</td>\n",
       "      <td>0</td>\n",
       "      <td>0</td>\n",
       "      <td>0</td>\n",
       "      <td>0</td>\n",
       "      <td>0</td>\n",
       "      <td>0</td>\n",
       "      <td>0</td>\n",
       "    </tr>\n",
       "  </tbody>\n",
       "</table>\n",
       "<p>1549 rows × 8 columns</p>\n",
       "</div>"
      ],
      "text/plain": [
       "      actuals  pred_knn  pred_logistic_regression  pred_bernoulli_naive_bayes  \\\n",
       "0           1         0                         0                           0   \n",
       "1           0         0                         0                           0   \n",
       "2           0         0                         0                           0   \n",
       "3           0         0                         0                           0   \n",
       "4           0         0                         0                           0   \n",
       "...       ...       ...                       ...                         ...   \n",
       "1544        0         0                         0                           0   \n",
       "1545        0         0                         0                           0   \n",
       "1546        0         0                         0                           0   \n",
       "1547        1         0                         0                           0   \n",
       "1548        0         0                         0                           0   \n",
       "\n",
       "      pred_gaussian_naive_bayes  pred_random_forest  pred_decision_tree  \\\n",
       "0                             0                   0                   0   \n",
       "1                             0                   0                   0   \n",
       "2                             0                   0                   0   \n",
       "3                             0                   0                   0   \n",
       "4                             0                   0                   0   \n",
       "...                         ...                 ...                 ...   \n",
       "1544                          0                   0                   0   \n",
       "1545                          0                   0                   0   \n",
       "1546                          0                   0                   0   \n",
       "1547                          1                   1                   1   \n",
       "1548                          0                   0                   0   \n",
       "\n",
       "      pred_gradient_boosting_classifier  \n",
       "0                                     0  \n",
       "1                                     0  \n",
       "2                                     0  \n",
       "3                                     0  \n",
       "4                                     0  \n",
       "...                                 ...  \n",
       "1544                                  0  \n",
       "1545                                  0  \n",
       "1546                                  0  \n",
       "1547                                  0  \n",
       "1548                                  0  \n",
       "\n",
       "[1549 rows x 8 columns]"
      ]
     },
     "execution_count": 20,
     "metadata": {},
     "output_type": "execute_result"
    }
   ],
   "source": [
    "predictions"
   ]
  },
  {
   "cell_type": "code",
   "execution_count": 26,
   "metadata": {},
   "outputs": [
    {
     "data": {
      "text/html": [
       "<div>\n",
       "<style scoped>\n",
       "    .dataframe tbody tr th:only-of-type {\n",
       "        vertical-align: middle;\n",
       "    }\n",
       "\n",
       "    .dataframe tbody tr th {\n",
       "        vertical-align: top;\n",
       "    }\n",
       "\n",
       "    .dataframe thead th {\n",
       "        text-align: right;\n",
       "    }\n",
       "</style>\n",
       "<table border=\"1\" class=\"dataframe\">\n",
       "  <thead>\n",
       "    <tr style=\"text-align: right;\">\n",
       "      <th></th>\n",
       "      <th>feature</th>\n",
       "      <th>importance_mean</th>\n",
       "      <th>importance_std</th>\n",
       "    </tr>\n",
       "  </thead>\n",
       "  <tbody>\n",
       "    <tr>\n",
       "      <th>8</th>\n",
       "      <td>thoughts_you_would_be_better_off_dead</td>\n",
       "      <td>0.000904</td>\n",
       "      <td>0.001008</td>\n",
       "    </tr>\n",
       "    <tr>\n",
       "      <th>6</th>\n",
       "      <td>trouble_concentrating</td>\n",
       "      <td>-0.000581</td>\n",
       "      <td>0.001619</td>\n",
       "    </tr>\n",
       "    <tr>\n",
       "      <th>4</th>\n",
       "      <td>poor_appetitie_or_overeating</td>\n",
       "      <td>-0.001033</td>\n",
       "      <td>0.002106</td>\n",
       "    </tr>\n",
       "    <tr>\n",
       "      <th>3</th>\n",
       "      <td>feeling_tired_or_having_little_energy</td>\n",
       "      <td>-0.001937</td>\n",
       "      <td>0.002381</td>\n",
       "    </tr>\n",
       "    <tr>\n",
       "      <th>7</th>\n",
       "      <td>moving_or_speaking_to_slowly_or_fast</td>\n",
       "      <td>-0.003228</td>\n",
       "      <td>0.001581</td>\n",
       "    </tr>\n",
       "    <tr>\n",
       "      <th>2</th>\n",
       "      <td>trouble_falling_or_staying_asleep</td>\n",
       "      <td>-0.004196</td>\n",
       "      <td>0.001985</td>\n",
       "    </tr>\n",
       "    <tr>\n",
       "      <th>5</th>\n",
       "      <td>feeling_bad_about_yourself</td>\n",
       "      <td>-0.007682</td>\n",
       "      <td>0.003048</td>\n",
       "    </tr>\n",
       "    <tr>\n",
       "      <th>0</th>\n",
       "      <td>little_interest_in_doing_things</td>\n",
       "      <td>-0.010136</td>\n",
       "      <td>0.002931</td>\n",
       "    </tr>\n",
       "    <tr>\n",
       "      <th>9</th>\n",
       "      <td>difficult_doing_daytoday_tasks</td>\n",
       "      <td>-0.014977</td>\n",
       "      <td>0.002214</td>\n",
       "    </tr>\n",
       "    <tr>\n",
       "      <th>1</th>\n",
       "      <td>feeling_down_depressed_hopeless</td>\n",
       "      <td>-0.016656</td>\n",
       "      <td>0.003352</td>\n",
       "    </tr>\n",
       "  </tbody>\n",
       "</table>\n",
       "</div>"
      ],
      "text/plain": [
       "                                 feature  importance_mean  importance_std\n",
       "8  thoughts_you_would_be_better_off_dead         0.000904        0.001008\n",
       "6                  trouble_concentrating        -0.000581        0.001619\n",
       "4           poor_appetitie_or_overeating        -0.001033        0.002106\n",
       "3  feeling_tired_or_having_little_energy        -0.001937        0.002381\n",
       "7   moving_or_speaking_to_slowly_or_fast        -0.003228        0.001581\n",
       "2      trouble_falling_or_staying_asleep        -0.004196        0.001985\n",
       "5             feeling_bad_about_yourself        -0.007682        0.003048\n",
       "0        little_interest_in_doing_things        -0.010136        0.002931\n",
       "9         difficult_doing_daytoday_tasks        -0.014977        0.002214\n",
       "1        feeling_down_depressed_hopeless        -0.016656        0.003352"
      ]
     },
     "execution_count": 26,
     "metadata": {},
     "output_type": "execute_result"
    }
   ],
   "source": [
    "# Bernoulli Naive Bayes\n",
    "bnb = BernoulliNB()\n",
    "bnb.fit(x_train, y_train)\n",
    "perm_importance = permutation_importance(bnb, x_test, y_test, n_repeats=10,random_state=0)\n",
    "\n",
    "bnb_importances = pd.DataFrame({\n",
    "    'feature':dep_screener_cols,\n",
    "    'importance_mean':perm_importance['importances_mean'],\n",
    "    'importance_std':perm_importance['importances_std']\n",
    "}).sort_values(by='importance_mean',ascending=False)\n",
    "bnb_importances"
   ]
  },
  {
   "cell_type": "code",
   "execution_count": 23,
   "metadata": {},
   "outputs": [
    {
     "data": {
      "text/plain": [
       "1549"
      ]
     },
     "execution_count": 23,
     "metadata": {},
     "output_type": "execute_result"
    }
   ],
   "source": [
    "len(gnb.predict_proba(x_test)[:,0])"
   ]
  },
  {
   "cell_type": "code",
   "execution_count": 22,
   "metadata": {},
   "outputs": [],
   "source": [
    "# Gaussian Naive Bayes\n",
    "gnb = BernoulliNB()\n",
    "gnb.fit(x_train, y_train)\n",
    "perm_importance = permutation_importance(gnb, x_test, y_test, n_repeats=10,random_state=0)"
   ]
  },
  {
   "cell_type": "code",
   "execution_count": 18,
   "metadata": {},
   "outputs": [
    {
     "data": {
      "text/plain": [
       "array([[0., 0., 1., ..., 0., 0., 0.],\n",
       "       [0., 0., 0., ..., 0., 0., 0.],\n",
       "       [0., 0., 0., ..., 0., 0., 0.],\n",
       "       ...,\n",
       "       [1., 2., 0., ..., 0., 0., 0.],\n",
       "       [1., 0., 1., ..., 0., 0., 0.],\n",
       "       [0., 0., 0., ..., 0., 0., 0.]])"
      ]
     },
     "execution_count": 18,
     "metadata": {},
     "output_type": "execute_result"
    }
   ],
   "source": [
    "x_train"
   ]
  },
  {
   "cell_type": "code",
   "execution_count": 121,
   "metadata": {},
   "outputs": [
    {
     "name": "stdout",
     "output_type": "stream",
     "text": [
      "(6192, 116)\n",
      "(1549, 116)\n",
      "(6192,)\n",
      "(1549,)\n"
     ]
    }
   ],
   "source": [
    "x_train, x_test, y_train, y_test = get_model_data(\n",
    "    original_df = cdc_survey_pmom,\n",
    "    columns = candidate_features\n",
    ")\n",
    "\n",
    "print(x_train.shape)\n",
    "print(x_test.shape)\n",
    "print(y_train.shape)\n",
    "print(y_test.shape)\n",
    "\n",
    "baseline_model, predictions = generate_models(\n",
    "    x_train, \n",
    "    y_train, \n",
    "    x_test, \n",
    "    y_test\n",
    ")"
   ]
  },
  {
   "cell_type": "code",
   "execution_count": 104,
   "metadata": {},
   "outputs": [
    {
     "data": {
      "text/plain": [
       "118"
      ]
     },
     "execution_count": 104,
     "metadata": {},
     "output_type": "execute_result"
    }
   ],
   "source": [
    "len(candidate_features)"
   ]
  },
  {
   "cell_type": "code",
   "execution_count": 127,
   "metadata": {},
   "outputs": [
    {
     "data": {
      "text/html": [
       "<div>\n",
       "<style scoped>\n",
       "    .dataframe tbody tr th:only-of-type {\n",
       "        vertical-align: middle;\n",
       "    }\n",
       "\n",
       "    .dataframe tbody tr th {\n",
       "        vertical-align: top;\n",
       "    }\n",
       "\n",
       "    .dataframe thead th {\n",
       "        text-align: right;\n",
       "    }\n",
       "</style>\n",
       "<table border=\"1\" class=\"dataframe\">\n",
       "  <thead>\n",
       "    <tr style=\"text-align: right;\">\n",
       "      <th></th>\n",
       "      <th>feature</th>\n",
       "      <th>importance_mean</th>\n",
       "      <th>importance_std</th>\n",
       "    </tr>\n",
       "  </thead>\n",
       "  <tbody>\n",
       "    <tr>\n",
       "      <th>5</th>\n",
       "      <td>feeling_bad_about_yourself</td>\n",
       "      <td>0.007941</td>\n",
       "      <td>0.001043</td>\n",
       "    </tr>\n",
       "    <tr>\n",
       "      <th>9</th>\n",
       "      <td>difficult_doing_daytoday_tasks</td>\n",
       "      <td>0.005423</td>\n",
       "      <td>0.002164</td>\n",
       "    </tr>\n",
       "    <tr>\n",
       "      <th>8</th>\n",
       "      <td>thoughts_you_would_be_better_off_dead</td>\n",
       "      <td>0.004713</td>\n",
       "      <td>0.001894</td>\n",
       "    </tr>\n",
       "    <tr>\n",
       "      <th>55</th>\n",
       "      <td>heart_attack</td>\n",
       "      <td>0.003357</td>\n",
       "      <td>0.001798</td>\n",
       "    </tr>\n",
       "    <tr>\n",
       "      <th>71</th>\n",
       "      <td>metal_objects</td>\n",
       "      <td>0.003163</td>\n",
       "      <td>0.001171</td>\n",
       "    </tr>\n",
       "    <tr>\n",
       "      <th>...</th>\n",
       "      <td>...</td>\n",
       "      <td>...</td>\n",
       "      <td>...</td>\n",
       "    </tr>\n",
       "    <tr>\n",
       "      <th>40</th>\n",
       "      <td>time_since_last_healthcare</td>\n",
       "      <td>-0.002905</td>\n",
       "      <td>0.002728</td>\n",
       "    </tr>\n",
       "    <tr>\n",
       "      <th>80</th>\n",
       "      <td>duration_last_healthcare_visit</td>\n",
       "      <td>-0.002905</td>\n",
       "      <td>0.002728</td>\n",
       "    </tr>\n",
       "    <tr>\n",
       "      <th>59</th>\n",
       "      <td>abdominal_pain</td>\n",
       "      <td>-0.003228</td>\n",
       "      <td>0.001555</td>\n",
       "    </tr>\n",
       "    <tr>\n",
       "      <th>43</th>\n",
       "      <td>have_health_insurance</td>\n",
       "      <td>-0.003809</td>\n",
       "      <td>0.001273</td>\n",
       "    </tr>\n",
       "    <tr>\n",
       "      <th>114</th>\n",
       "      <td>has_health_insurance</td>\n",
       "      <td>-0.003809</td>\n",
       "      <td>0.001273</td>\n",
       "    </tr>\n",
       "  </tbody>\n",
       "</table>\n",
       "<p>116 rows × 3 columns</p>\n",
       "</div>"
      ],
      "text/plain": [
       "                                   feature  importance_mean  importance_std\n",
       "5               feeling_bad_about_yourself         0.007941        0.001043\n",
       "9           difficult_doing_daytoday_tasks         0.005423        0.002164\n",
       "8    thoughts_you_would_be_better_off_dead         0.004713        0.001894\n",
       "55                            heart_attack         0.003357        0.001798\n",
       "71                           metal_objects         0.003163        0.001171\n",
       "..                                     ...              ...             ...\n",
       "40              time_since_last_healthcare        -0.002905        0.002728\n",
       "80          duration_last_healthcare_visit        -0.002905        0.002728\n",
       "59                          abdominal_pain        -0.003228        0.001555\n",
       "43                   have_health_insurance        -0.003809        0.001273\n",
       "114                   has_health_insurance        -0.003809        0.001273\n",
       "\n",
       "[116 rows x 3 columns]"
      ]
     },
     "execution_count": 127,
     "metadata": {},
     "output_type": "execute_result"
    }
   ],
   "source": [
    "gnb_importances = pd.DataFrame({\n",
    "    'feature':candidate_features,\n",
    "    'importance_mean':perm_importance['importances_mean'],\n",
    "    'importance_std':perm_importance['importances_std']\n",
    "}).sort_values(by='importance_mean',ascending=False)\n",
    "gnb_importances"
   ]
  },
  {
   "cell_type": "code",
   "execution_count": 31,
   "metadata": {},
   "outputs": [
    {
     "data": {
      "text/html": [
       "<div>\n",
       "<style scoped>\n",
       "    .dataframe tbody tr th:only-of-type {\n",
       "        vertical-align: middle;\n",
       "    }\n",
       "\n",
       "    .dataframe tbody tr th {\n",
       "        vertical-align: top;\n",
       "    }\n",
       "\n",
       "    .dataframe thead th {\n",
       "        text-align: right;\n",
       "    }\n",
       "</style>\n",
       "<table border=\"1\" class=\"dataframe\">\n",
       "  <thead>\n",
       "    <tr style=\"text-align: right;\">\n",
       "      <th></th>\n",
       "      <th>Feature</th>\n",
       "      <th>Coefficient</th>\n",
       "    </tr>\n",
       "  </thead>\n",
       "  <tbody>\n",
       "    <tr>\n",
       "      <th>1</th>\n",
       "      <td>feeling_down_depressed_hopeless</td>\n",
       "      <td>0.116370</td>\n",
       "    </tr>\n",
       "    <tr>\n",
       "      <th>4</th>\n",
       "      <td>poor_appetitie_or_overeating</td>\n",
       "      <td>0.116036</td>\n",
       "    </tr>\n",
       "    <tr>\n",
       "      <th>2</th>\n",
       "      <td>trouble_falling_or_staying_asleep</td>\n",
       "      <td>0.113776</td>\n",
       "    </tr>\n",
       "    <tr>\n",
       "      <th>6</th>\n",
       "      <td>trouble_concentrating</td>\n",
       "      <td>0.107036</td>\n",
       "    </tr>\n",
       "    <tr>\n",
       "      <th>9</th>\n",
       "      <td>difficult_doing_daytoday_tasks</td>\n",
       "      <td>0.105663</td>\n",
       "    </tr>\n",
       "    <tr>\n",
       "      <th>0</th>\n",
       "      <td>little_interest_in_doing_things</td>\n",
       "      <td>0.105246</td>\n",
       "    </tr>\n",
       "    <tr>\n",
       "      <th>3</th>\n",
       "      <td>feeling_tired_or_having_little_energy</td>\n",
       "      <td>0.104398</td>\n",
       "    </tr>\n",
       "    <tr>\n",
       "      <th>5</th>\n",
       "      <td>feeling_bad_about_yourself</td>\n",
       "      <td>0.099671</td>\n",
       "    </tr>\n",
       "    <tr>\n",
       "      <th>7</th>\n",
       "      <td>moving_or_speaking_to_slowly_or_fast</td>\n",
       "      <td>0.088079</td>\n",
       "    </tr>\n",
       "    <tr>\n",
       "      <th>8</th>\n",
       "      <td>thoughts_you_would_be_better_off_dead</td>\n",
       "      <td>0.043725</td>\n",
       "    </tr>\n",
       "  </tbody>\n",
       "</table>\n",
       "</div>"
      ],
      "text/plain": [
       "                                 Feature  Coefficient\n",
       "1        feeling_down_depressed_hopeless     0.116370\n",
       "4           poor_appetitie_or_overeating     0.116036\n",
       "2      trouble_falling_or_staying_asleep     0.113776\n",
       "6                  trouble_concentrating     0.107036\n",
       "9         difficult_doing_daytoday_tasks     0.105663\n",
       "0        little_interest_in_doing_things     0.105246\n",
       "3  feeling_tired_or_having_little_energy     0.104398\n",
       "5             feeling_bad_about_yourself     0.099671\n",
       "7   moving_or_speaking_to_slowly_or_fast     0.088079\n",
       "8  thoughts_you_would_be_better_off_dead     0.043725"
      ]
     },
     "execution_count": 31,
     "metadata": {},
     "output_type": "execute_result"
    }
   ],
   "source": [
    "get_random_forest_n_top_features()"
   ]
  },
  {
   "cell_type": "markdown",
   "metadata": {},
   "source": [
    "## Optimizations"
   ]
  }
 ],
 "metadata": {
  "kernelspec": {
   "display_name": "Python 3",
   "language": "python",
   "name": "python3"
  },
  "language_info": {
   "codemirror_mode": {
    "name": "ipython",
    "version": 3
   },
   "file_extension": ".py",
   "mimetype": "text/x-python",
   "name": "python",
   "nbconvert_exporter": "python",
   "pygments_lexer": "ipython3",
   "version": "3.8.5"
  }
 },
 "nbformat": 4,
 "nbformat_minor": 4
}
