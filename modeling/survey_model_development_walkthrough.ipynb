{
 "cells": [
  {
   "cell_type": "markdown",
   "metadata": {},
   "source": [
    "This notebook summarizes the steps in the development process for our survey model.\n",
    "\n",
    "**The data**\n",
    "- The model leverages a [public dataset](https://wwwn.cdc.gov/nchs/nhanes/default.aspx) from the National Health and Nutrition Examination Survey (NHANES). NHANES is a national survey that monitors the health and nutrional status of adults and children across the US. NHANCES is run by the National Center for Health Statistics (NCHS). NCHS is part of centers for disease control and prevention (CDC) and is responsible for producing vital and health statistics for the nation.\n",
    "- The public database contains data to 40+ surveys that were each conducted 12 times between 1999-2020. \n",
    "\n",
    "**EDA & Data Pipeline**\n",
    "- We explored roughly half of the survey files available in the database. For our final model we are using {XXX} different survey files spanning years of {YYY}. \n",
    "- Our repository contains links to our jupyter notebooks used for creating our data-pipeline {ZZZ} & performing exploratory data analysis (EDA) {AAA}. \n",
    "\n",
    "\n",
    "**Training Phase**\n",
    "- Model selection: Logistic regression, random forest, decision tree, k-nearest neighbor, & naive bayes, gradient boosting classifier. \n",
    "- Positive class imbalance: smote, train/test split, adding additional survey years\n",
    "- Segmentation: male vs female\n",
    "\n",
    "**Test Phase**\n",
    "- Evaluation criteria: \n",
    "- Feature selection:\n",
    "- Hyperparameters: \n",
    "- Error analysis:\n"
   ]
  }
 ],
 "metadata": {
  "kernelspec": {
   "display_name": "Python 3",
   "language": "python",
   "name": "python3"
  },
  "language_info": {
   "codemirror_mode": {
    "name": "ipython",
    "version": 3
   },
   "file_extension": ".py",
   "mimetype": "text/x-python",
   "name": "python",
   "nbconvert_exporter": "python",
   "pygments_lexer": "ipython3",
   "version": "3.8.5"
  }
 },
 "nbformat": 4,
 "nbformat_minor": 4
}
