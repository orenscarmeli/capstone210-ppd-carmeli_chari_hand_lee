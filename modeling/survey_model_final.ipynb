{
 "cells": [
  {
   "cell_type": "markdown",
   "metadata": {},
   "source": [
    "# Context\n",
    "\n",
    "\n",
    "This notebook summarizes the steps in the development process for our survey model.\n",
    "\n",
    "### The data\n",
    "\n",
    "The model leverages a [public dataset](https://wwwn.cdc.gov/nchs/nhanes/default.aspx) from the National Health and Nutrition Examination Survey (NHANES). NHANES is a national survey that monitors the health and nutrional status of adults and children across the US. NHANCES is run by the National Center for Health Statistics (NCHS). NCHS is part of centers for disease control and prevention (CDC) and is responsible for producing vital and health statistics for the nation. The public database contains data to 40+ surveys that were each conducted 12 times between 1999-2020. \n",
    "\n",
    "### EDA & Data Pipeline\n",
    "\n",
    "We explored roughly half of the survey files available in the database. For our final model we are using {XXX} different survey files spanning years of {YYY}. Our repository contains links to our jupyter notebooks used for creating our data-pipeline {ZZZ} & performing exploratory data analysis (EDA) {AAA}. \n",
    "\n",
    "### Model Development\n",
    "\n",
    "#### Model Objective\n",
    "\n",
    "The objective of our model is to predict whether a survey respondent is depressed. \n",
    "- The outcome variable is binary indicator variable called \"MDD\". The value is 1 if the individual has been diagnosed & is taking medication related to depression. \n",
    "- The input variables include data around demographic traits, medical & physical health, mood/behavioral data.\n",
    "\n",
    "#### Training Phase\n",
    "\n",
    "We explored several options during the training phase in an effort to build the best model and better understand our target sample.\n",
    "\n",
    "\n",
    "1) We explored the following 6 classifiers for our model;\n",
    "- Logistic Regression: XXX\n",
    "- Random Forest: XXX\n",
    "- Decision Tree: XXX\n",
    "- K-Nearest Neighbor (KNN): XXX\n",
    "- Naive Bayes: XXX\n",
    "- Gradient Boosting Classifier: XXX\n",
    "\n",
    "2) Positive class imbalance: Across our entire dataset ~4% of respondents have MDD=1. Among preganant woman, ~10% have MDD=1. We explored 3 stragies to account for this;\n",
    "- SMOTE: XXX\n",
    "- Test/Train Proportion: XXX\n",
    "- Adding additional survey years: XXX\n",
    " \n",
    "3) Segmentation: Our project is oriented around predicting PPD, hence our model focuses on predicting depression among woman that have been pregnant. We did however want to compare performance when across several groups; A) all respondents B) males only C) females only D) females that have been preganant only. This is used to understand potential differences in predicting depression among different audiences.\n",
    "\n",
    "#### Test Phase\n",
    "\n",
    "\n",
    "\n",
    "- Evaluation criteria: \n",
    "- Feature selection:\n",
    "- Hyperparameters: \n",
    "- Error analysis:"
   ]
  },
  {
   "cell_type": "markdown",
   "metadata": {},
   "source": [
    "# Model Development"
   ]
  },
  {
   "cell_type": "markdown",
   "metadata": {},
   "source": [
    "## Setup"
   ]
  },
  {
   "cell_type": "markdown",
   "metadata": {},
   "source": [
    "### Load Packages"
   ]
  },
  {
   "cell_type": "code",
   "execution_count": 25,
   "metadata": {},
   "outputs": [],
   "source": [
    "# TODO: add annotations describing usage of different modules\n",
    "\n",
    "from operator import mod\n",
    "from os import getcwd\n",
    "from os.path import exists, join\n",
    "\n",
    "import joblib\n",
    "from sklearn.datasets import fetch_california_housing\n",
    "from sklearn.impute import SimpleImputer\n",
    "from sklearn.model_selection import GridSearchCV, train_test_split\n",
    "from sklearn.pipeline import make_pipeline\n",
    "from sklearn.preprocessing import RobustScaler\n",
    "from sklearn.svm import SVR\n",
    "import pandas as pd\n",
    "import numpy as np\n",
    "# from ydata_profiling import ProfileReport\n",
    "\n",
    "from sklearn import preprocessing\n",
    "from sklearn.neighbors import KNeighborsClassifier\n",
    "from sklearn.metrics import classification_report, confusion_matrix, ConfusionMatrixDisplay\n",
    "from sklearn.naive_bayes import BernoulliNB\n",
    "from sklearn.naive_bayes import GaussianNB\n",
    "from sklearn.naive_bayes import MultinomialNB\n",
    "from sklearn.model_selection import GridSearchCV\n",
    "from sklearn.metrics import accuracy_score, recall_score, precision_score, f1_score\n",
    "from sklearn.linear_model import LogisticRegression, LinearRegression\n",
    "import warnings\n",
    "from sklearn import metrics\n",
    "from sklearn.preprocessing import StandardScaler\n",
    "from sklearn.preprocessing import MinMaxScaler\n",
    "from sklearn.preprocessing import Normalizer\n",
    "from sklearn.decomposition import PCA\n",
    "from sklearn.ensemble import RandomForestClassifier\n",
    "from sklearn.tree import DecisionTreeClassifier\n",
    "from sklearn.ensemble import ExtraTreesClassifier\n",
    "import matplotlib.pyplot as plt\n",
    "from sklearn.ensemble import  GradientBoostingClassifier\n",
    "# import xgboost as xgb\n",
    "import seaborn as sns\n",
    "from sklearn.metrics import confusion_matrix\n",
    "from sklearn.svm import SVC, LinearSVC \n",
    "from sklearn.neural_network import MLPClassifier\n",
    "from sklearn.model_selection import KFold\n",
    "\n",
    "from sklearn.metrics import recall_score\n",
    "\n",
    "from sklearn import tree\n",
    "from sklearn.decomposition import PCA, SparsePCA\n",
    "\n",
    "from sklearn.mixture import GaussianMixture\n",
    "from sklearn.decomposition import PCA\n",
    "import json\n",
    "import pickle\n",
    "from IPython.display import Image\n",
    "import warnings\n",
    "\n",
    "from sklearn.datasets import make_classification\n",
    "from imblearn.over_sampling import RandomOverSampler\n",
    "from imblearn.under_sampling import RandomUnderSampler\n",
    "from imblearn.over_sampling import SMOTE\n",
    "from collections import Counter\n",
    "\n",
    "import altair as alt\n",
    "import random\n",
    "import warnings\n",
    "\n",
    "warnings.filterwarnings('ignore')\n",
    "\n",
    "# set seaborn whitegrid theme\n",
    "sns.set(style=\"whitegrid\")\n",
    "\n",
    "from sklearn.inspection import permutation_importance"
   ]
  },
  {
   "cell_type": "markdown",
   "metadata": {},
   "source": [
    "### Load Data"
   ]
  },
  {
   "cell_type": "code",
   "execution_count": 118,
   "metadata": {},
   "outputs": [
    {
     "name": "stdout",
     "output_type": "stream",
     "text": [
      "(35706, 863)\n",
      "(7741, 863)\n"
     ]
    }
   ],
   "source": [
    "cdc_survey = pd.read_csv('../data/cdc_nhanes_survey_responses_clean.csv')\n",
    "print(cdc_survey.shape)\n",
    "\n",
    "# filter to pregnant moms\n",
    "cdc_survey_pmom = cdc_survey[cdc_survey['has_been_pregnant'] == 1]\n",
    "print(cdc_survey_pmom.shape)"
   ]
  },
  {
   "cell_type": "markdown",
   "metadata": {},
   "source": [
    "### Candidate Features\n",
    "\n",
    "Here we list out all candidate features for our model. "
   ]
  },
  {
   "cell_type": "code",
   "execution_count": 114,
   "metadata": {},
   "outputs": [
    {
     "data": {
      "text/plain": [
       "116"
      ]
     },
     "execution_count": 114,
     "metadata": {},
     "output_type": "execute_result"
    }
   ],
   "source": [
    "candidate_features = [\n",
    "    # Depression screener\n",
    "    'little_interest_in_doing_things',\n",
    "    'feeling_down_depressed_hopeless',\n",
    "    'trouble_falling_or_staying_asleep',\n",
    "    'feeling_tired_or_having_little_energy',\n",
    "    'poor_appetitie_or_overeating',\n",
    "    'feeling_bad_about_yourself',\n",
    "    'trouble_concentrating',\n",
    "    'moving_or_speaking_to_slowly_or_fast',\n",
    "    'thoughts_you_would_be_better_off_dead',\n",
    "    'difficult_doing_daytoday_tasks',\n",
    "    # Alcohol & smoking\n",
    "    'has_smoked_tabacco_last_5days',\n",
    "    'alcoholic_drinks_past_12mo', \n",
    "    'drank_alc',\n",
    "    'alc_drinking_freq',\n",
    "    'alc_per_day',\n",
    "    'times_with_4or5_alc',\n",
    "    'times_with_8plus_alc',\n",
    "    'times_with_12plus_alc',\n",
    "    '4plus_alc_daily',\n",
    "    'days_4plus_drinks_occasion',\n",
    "    #Blood Pressure & Cholesterol\n",
    "    'high_bp',\n",
    "    'age_hypertension',\n",
    "    'hypertension_prescription',\n",
    "    'high_bp_prescription',\n",
    "    'high_cholesterol',\n",
    "    'cholesterol_prescription',\n",
    "    #Cardiovascular Health\n",
    "    'chest_discomfort',\n",
    "    # Diet & Nutrition\n",
    "    'how_healthy_is_your_diet',    \n",
    "    'count_lost_10plus_pounds',\n",
    "    'has_tried_to_lose_weight_12mo', \n",
    "    #'breastfed',\n",
    "    'milk_consumption_freq',\n",
    "    'govmnt_meal_delivery',\n",
    "    'nonhomemade_meals',\n",
    "    'fastfood_meals',\n",
    "    'readytoeat_meals',\n",
    "    'frozen_pizza',\n",
    "    #Food Security\n",
    "    'emergency_food_received',\n",
    "    'food_stamps_used',\n",
    "    #'wic_benefit_used',\n",
    "    #Hospital Utilization & Access to Care\n",
    "    'general_health',\n",
    "    'regular_healthcare_place',\n",
    "    'time_since_last_healthcare',\n",
    "    'overnight_in_hospital',\n",
    "    'seen_mental_health_professional',\n",
    "    #Health Insurance\n",
    "    'have_health_insurance',\n",
    "    'have_private_insurance',\n",
    "    'plan_cover_prescriptions',\n",
    "    #Income\n",
    "    'family_poverty_level',\n",
    "    'family_poverty_level_category',\n",
    "    #Medical Conditions\n",
    "    'asthma',\n",
    "    'anemia_treatment',\n",
    "    'blood_transfusion',\n",
    "    'arthritis',\n",
    "    'heart_failure',\n",
    "    'coronary_heart_disease',\n",
    "    'angina_pectoris',\n",
    "    'heart_attack',\n",
    "    'stroke',\n",
    "    'thyroid_issues',\n",
    "    'respiratory_issues',\n",
    "    'abdominal_pain',\n",
    "    'gallstones',\n",
    "    'gallbladder_surgery',\n",
    "    'cancer',\n",
    "    'dr_recommend_lose_weight',\n",
    "    'dr_recommend_exercise',\n",
    "    'dr_recommend_reduce_salt',\n",
    "    'dr_recommend_reduce_fat',\n",
    "    'currently_losing_weight',\n",
    "    'currently_increase_exercise',\n",
    "    'currently_reducing_salt',\n",
    "    'currently_reducing_fat',\n",
    "    'metal_objects',\n",
    "    #Occupation\n",
    "    'hours_worked',\n",
    "    'over_35_hrs_worked',\n",
    "    'work_schedule',\n",
    "    #Physical Activity\n",
    "    'vigorous_work',\n",
    "    'walk_or_bicycle',\n",
    "    'vigorous_recreation',\n",
    "    'moderate_recreation',\n",
    "    # Physical health & Medical History\n",
    "    'count_days_seen_doctor_12mo',\n",
    "    'duration_last_healthcare_visit',        \n",
    "    'count_days_moderate_recreational_activity',   \n",
    "    'count_minutes_moderate_recreational_activity',\n",
    "    'count_minutes_moderate_sedentary_activity',\n",
    "    'general_health_condition',    \n",
    "    'has_diabetes',\n",
    "    'has_overweight_diagnosis',  \n",
    "    #Reproductive Health\n",
    "    'regular_periods',\n",
    "    'age_last_period',\n",
    "    'try_pregnancy_1yr',\n",
    "    'see_dr_fertility',\n",
    "    'pelvic_infection',\n",
    "    'pregnant_now',\n",
    "    'pregnancy_count',\n",
    "    'diabetes_pregnancy',\n",
    "    'delivery_count',\n",
    "    'live_birth_count',\n",
    "    'age_at_first_birth',\n",
    "    'age_at_last_birth',\n",
    "    'months_since_birth',\n",
    "    'horomones_not_bc',\n",
    "    #Smoking\n",
    "    'smoked_100_cigs',\n",
    "    'currently_smoke',\n",
    "    #Weight History\n",
    "    'height_in',\n",
    "    'weight_lbs',\n",
    "    'attempt_weight_loss_1yr',\n",
    "    # Demographic data\n",
    "    'food_security_level_household',   \n",
    "    'food_security_level_adult',    \n",
    "    'monthly_poverty_index_category',\n",
    "    'monthly_poverty_index',\n",
    "    'count_hours_worked_last_week',\n",
    "    'age_in_years',   \n",
    "    'education_level',\n",
    "    'is_usa_born',    \n",
    "    'has_health_insurance',\n",
    "    'has_health_insurance_gap'   \n",
    "]\n",
    "\n",
    "dep_screener_cols = candidate_features[0:10] \n",
    "len(candidate_features)"
   ]
  },
  {
   "cell_type": "markdown",
   "metadata": {},
   "source": [
    "### Function to create test & train dataset"
   ]
  },
  {
   "cell_type": "code",
   "execution_count": 115,
   "metadata": {},
   "outputs": [],
   "source": [
    "def get_model_data(original_df, \n",
    "                   columns, \n",
    "                   test_size_prop=0.2,\n",
    "                   drop_null_rows=False,\n",
    "                   null_imputer_strategy='median', # mean, median, most_frequent\n",
    "                   use_value_scaler=True,\n",
    "                   use_smote=False):\n",
    "    \"\"\"\n",
    "    Function to build feature & indicator matrices for both train & test.\n",
    "    \"\"\"\n",
    "    \n",
    "    # add target column (MDD)\n",
    "    cols_to_use = columns.copy()\n",
    "    cols_to_use.insert(0, 'MDD')\n",
    "    \n",
    "    df_to_use = original_df[cols_to_use]\n",
    "    \n",
    "    if drop_null_rows:\n",
    "        df_to_use.dropna(inplace=True)\n",
    "    \n",
    "    # Create test & train data\n",
    "    x = df_to_use.iloc[:,1:].values\n",
    "    y = df_to_use['MDD'].values\n",
    "    \n",
    "    if not drop_null_rows:\n",
    "        # SimpleImputer() = fill in missing values\n",
    "        # note imputer may drop columns if no values exist for it\n",
    "        imputer = SimpleImputer(strategy=null_imputer_strategy)  \n",
    "        x = imputer.fit_transform(x)\n",
    "\n",
    "    # RobustScaler() = scale features to remove outliers\n",
    "    if use_value_scaler:\n",
    "        trans = RobustScaler()\n",
    "        x = trans.fit_transform(x)\n",
    "\n",
    "    x_train, x_test, y_train, y_test = train_test_split(\n",
    "        x, \n",
    "        y, \n",
    "        test_size=test_size_prop, \n",
    "        random_state=42\n",
    "    ) \n",
    "    \n",
    "    # Technique to de-risk from positive class imbalance\n",
    "    if use_smote:\n",
    "        sm = SMOTE(random_state=42)\n",
    "        x_train, y_train = sm.fit_resample(x_train, y_train)\n",
    "    \n",
    "    return x_train, x_test, y_train, y_test"
   ]
  },
  {
   "cell_type": "markdown",
   "metadata": {},
   "source": [
    "### Function to get performance across different models"
   ]
  },
  {
   "cell_type": "code",
   "execution_count": 5,
   "metadata": {},
   "outputs": [],
   "source": [
    "def get_performance_df(label_actual, label_pred, model_name):\n",
    "    \"\"\"\n",
    "    Function to calculate performance metrics for model.\n",
    "    Includes precision, recal, F1, & support.\n",
    "    \"\"\"\n",
    "    # create classification report\n",
    "    result_table = classification_report(label_actual, label_pred, output_dict=True)\n",
    "    result_table = pd.DataFrame.from_dict(result_table)\n",
    "\n",
    "    # store for later\n",
    "    accuracies = result_table['accuracy']\n",
    "\n",
    "    # rename grouping\n",
    "    result_table.columns = [\n",
    "        'depressed_no',\n",
    "        'depressed_yes',\n",
    "        'accuracy',\n",
    "        'macro_avg',\n",
    "        'weighted_avg'\n",
    "    ]\n",
    "\n",
    "    # create dataframe with 1 row per grouping\n",
    "    result_table.drop(labels = 'accuracy', axis = 1, inplace=True)\n",
    "    result_table = result_table.transpose()\n",
    "    result_table['accuracy'] = list(accuracies)\n",
    "    result_table = result_table.reset_index()\n",
    "    result_table.rename(columns = {'index':'grouping'},inplace=True)\n",
    "    result_table['model'] = model_name\n",
    "    result_table = result_table[['model','grouping','precision','recall','f1-score','support','accuracy']]\n",
    "    return result_table\n",
    "\n",
    "def generate_models(\n",
    "    x_train, \n",
    "    y_train, \n",
    "    x_test, \n",
    "    y_test):\n",
    "    \"\"\"\n",
    "    Function that trains and makes predictions using 5 of the classifiers went over during the class.\n",
    "    Meant as a helper function for easier testing of different modeling pipelines.\n",
    "    \"\"\"\n",
    "\n",
    "    # K-Nearest Neighbors\n",
    "    knn = KNeighborsClassifier()\n",
    "    knn.fit(x_train, y_train)\n",
    "    pred_labels_knn  = knn.predict(x_test)\n",
    "    score_knn = get_performance_df(y_test, pred_labels_knn,'Knn')\n",
    "    \n",
    "    # Logistic Regression\n",
    "    lm = LogisticRegression()\n",
    "    lm.fit(x_train, y_train)\n",
    "    pred_labels_lr  = lm.predict(x_test)\n",
    "    score_lr = get_performance_df(y_test, pred_labels_lr,'Logistic Regression')\n",
    "        \n",
    "    # Bernoulii Naive Bayes\n",
    "    bnb = BernoulliNB()\n",
    "    bnb.fit(x_train, y_train)\n",
    "    pred_labels_bnb  = bnb.predict(x_test)\n",
    "    score_bnb = get_performance_df(y_test, pred_labels_bnb,'Bernoulli Naive Bayes')    \n",
    "        \n",
    "    # Gaussian Naive Bayes\n",
    "    gnb = GaussianNB()\n",
    "    gnb.fit(x_train, y_train)\n",
    "    pred_labels_gnb  = gnb.predict(x_test)\n",
    "    score_gnb = get_performance_df(y_test, pred_labels_gnb,'Gaussian Naive Bayes')    \n",
    "\n",
    "    # Random Forest\n",
    "    rf = RandomForestClassifier(random_state=0)\n",
    "    rf.fit(x_train, y_train)\n",
    "    pred_labels_rf  = rf.predict(x_test)\n",
    "    predictions_posterior_rf = rf.predict_proba(x_test)\n",
    "    score_rf = get_performance_df(y_test, pred_labels_rf,'Random Forest')   \n",
    "    \n",
    "    #Decision Tree\n",
    "    dt = DecisionTreeClassifier()\n",
    "    dt.fit(x_train, y_train)\n",
    "    pred_labels_dt = dt.predict(x_test)\n",
    "    score_dt = get_performance_df(y_test, pred_labels_dt,'Decision Tree')\n",
    "\n",
    "    #Gradient Boosting Classifier\n",
    "    gb = GradientBoostingClassifier()\n",
    "    gb.fit(x_train, y_train)\n",
    "    pred_labels_gb = gb.predict(x_test)\n",
    "    score_gb = get_performance_df(y_test, pred_labels_gb,'Gradient Boosting Classifier')\n",
    "    \n",
    "    # make dataframe with scores\n",
    "    scores = pd.concat([score_knn, score_lr, score_bnb, score_gnb, score_rf, score_dt, score_gb])\n",
    "    scores = scores.sort_values(by = 'recall', ascending=False)\n",
    "\n",
    "    # determine which groupings to include\n",
    "    #if not show_all_groupings:\n",
    "    #    scores = scores[scores['grouping'] == 'macro_avg']\n",
    "        \n",
    "    # make dataframe with predictions\n",
    "    predictions = pd.DataFrame({\n",
    "        'actuals':y_test,\n",
    "        'pred_knn':pred_labels_knn,\n",
    "        'pred_logistic_regression':pred_labels_lr,\n",
    "        'pred_bernoulli_naive_bayes':pred_labels_bnb,\n",
    "        'pred_gaussian_naive_bayes':pred_labels_gnb,\n",
    "        'pred_random_forest':pred_labels_rf,\n",
    "        'pred_decision_tree':pred_labels_dt,\n",
    "        'pred_gradient_boosting_classifier':pred_labels_gb\n",
    "    })\n",
    "\n",
    "    return scores, predictions"
   ]
  },
  {
   "cell_type": "markdown",
   "metadata": {},
   "source": [
    "### Function for Error analysis"
   ]
  },
  {
   "cell_type": "code",
   "execution_count": 6,
   "metadata": {},
   "outputs": [],
   "source": [
    "def plot_confusion_matrix(y_test, pred_labels):\n",
    "    \"\"\"\n",
    "    Function that displays a confusion matrix for provided true and predicted classes\n",
    "    \"\"\"\n",
    "    #print(f'cover type 1 and type 2 total correct {np.sum(np.diag(metrics.confusion_matrix(y_test, pred_labels))[:2])}')\n",
    "\n",
    "    cm = confusion_matrix(y_test, pred_labels)\n",
    "    disp = ConfusionMatrixDisplay(confusion_matrix=cm)\n",
    "    fig, ax = plt.subplots(figsize=(5,5))\n",
    "    disp = disp.plot(include_values=True, cmap='viridis', ax=ax, xticks_rotation='horizontal')    \n",
    "    plt.grid(False)\n",
    "    plt.show()\n",
    "    return\n",
    "\n",
    "def label_pred(row):\n",
    "    \"\"\"\n",
    "    Function that labels prediction cases into TP, TN, FP, FN\n",
    "    \"\"\"\n",
    "    if row['y_actual'] == row['y_pred']:\n",
    "        if row['y_actual'] == 1:\n",
    "            result = 'TP'\n",
    "        else:\n",
    "            result = 'TN'\n",
    "    else: \n",
    "        if row['y_actual'] == 1:\n",
    "            result = 'FN'\n",
    "        else:\n",
    "            result = 'FP'\n",
    "\n",
    "    return result\n",
    "\n",
    "def create_error_plots(\n",
    "    y_actuals,\n",
    "    y_predictions,\n",
    "    x_test_matrix,\n",
    "    x_test_columns,\n",
    "    columns_to_plot,\n",
    "    show_bar_plot=True,\n",
    "    show_density_plot=True):\n",
    "    \"\"\"\n",
    "    Function that creates bi-variate plots comparing TP, TN, FP, FN for each desired feature column.\n",
    "    \"\"\"\n",
    "    \n",
    "    ### Create dataframe of predictions & feature \n",
    "    \n",
    "    # create dataframe with actuals & predictions w/ labels\n",
    "    prediction_labels = pd.DataFrame(columns = ['y_actual','y_pred'])\n",
    "    prediction_labels['y_actual'] = y_actuals\n",
    "    prediction_labels['y_pred'] = y_predictions\n",
    "    prediction_labels['label'] = prediction_labels.apply(label_pred, axis = 1)\n",
    "\n",
    "    # feature df \n",
    "    feature_df = pd.DataFrame(x_test_matrix, columns = x_test_columns)\n",
    "\n",
    "    # combine into 1\n",
    "    pred_data = pd.concat([prediction_labels, feature_df], axis = 1)\n",
    "\n",
    "    ### Bi-variate plots\n",
    "    for column in columns_to_plot:\n",
    "    \n",
    "        if show_density_plot:\n",
    "            ## Density plot\n",
    "            sns.kdeplot(\n",
    "                data=pred_data, \n",
    "                x=column, \n",
    "                hue=\"label\", \n",
    "                cut=0, \n",
    "                common_norm=False, \n",
    "                alpha=0.4\n",
    "            )\n",
    "\n",
    "        if show_bar_plot:\n",
    "            ## barplot\n",
    "            # create % of total column by group\n",
    "            group_data = pred_data.groupby(['label',column])['y_actual'].count().reset_index()\n",
    "            group_data['Pct of Total'] = group_data['y_actual'] / group_data.groupby('label')['y_actual'].transform('sum')\n",
    "\n",
    "            sns.catplot(\n",
    "                data=group_data, \n",
    "                kind=\"bar\",\n",
    "                x=column, \n",
    "                y=\"Pct of Total\", \n",
    "                hue=\"label\",\n",
    "                alpha = 0.8\n",
    "            )\n",
    "\n",
    "        plt.show()"
   ]
  },
  {
   "cell_type": "markdown",
   "metadata": {},
   "source": [
    "## Baseline Model\n",
    "\n",
    "We start by building baseline models across the 6 classifiers. We start by using the 10 questions from the depression screener questionaire."
   ]
  },
  {
   "cell_type": "code",
   "execution_count": 119,
   "metadata": {},
   "outputs": [
    {
     "name": "stdout",
     "output_type": "stream",
     "text": [
      "(6192, 10)\n",
      "(1549, 10)\n",
      "(6192,)\n",
      "(1549,)\n"
     ]
    }
   ],
   "source": [
    "x_train, x_test, y_train, y_test = get_model_data(\n",
    "    original_df = cdc_survey_pmom,\n",
    "    columns = dep_screener_cols\n",
    ")\n",
    "\n",
    "print(x_train.shape)\n",
    "print(x_test.shape)\n",
    "print(y_train.shape)\n",
    "print(y_test.shape)\n",
    "\n",
    "baseline_model, predictions = generate_models(\n",
    "    x_train, \n",
    "    y_train, \n",
    "    x_test, \n",
    "    y_test\n",
    ")"
   ]
  },
  {
   "cell_type": "code",
   "execution_count": 120,
   "metadata": {},
   "outputs": [
    {
     "data": {
      "text/html": [
       "<div>\n",
       "<style scoped>\n",
       "    .dataframe tbody tr th:only-of-type {\n",
       "        vertical-align: middle;\n",
       "    }\n",
       "\n",
       "    .dataframe tbody tr th {\n",
       "        vertical-align: top;\n",
       "    }\n",
       "\n",
       "    .dataframe thead th {\n",
       "        text-align: right;\n",
       "    }\n",
       "</style>\n",
       "<table border=\"1\" class=\"dataframe\">\n",
       "  <thead>\n",
       "    <tr style=\"text-align: right;\">\n",
       "      <th></th>\n",
       "      <th>model</th>\n",
       "      <th>recall</th>\n",
       "      <th>f1-score</th>\n",
       "      <th>precision</th>\n",
       "      <th>accuracy</th>\n",
       "    </tr>\n",
       "  </thead>\n",
       "  <tbody>\n",
       "    <tr>\n",
       "      <th>2</th>\n",
       "      <td>Bernoulli Naive Bayes</td>\n",
       "      <td>0.675232</td>\n",
       "      <td>0.632390</td>\n",
       "      <td>0.614506</td>\n",
       "      <td>0.826985</td>\n",
       "    </tr>\n",
       "    <tr>\n",
       "      <th>2</th>\n",
       "      <td>Gaussian Naive Bayes</td>\n",
       "      <td>0.660506</td>\n",
       "      <td>0.633699</td>\n",
       "      <td>0.618641</td>\n",
       "      <td>0.840542</td>\n",
       "    </tr>\n",
       "    <tr>\n",
       "      <th>2</th>\n",
       "      <td>Decision Tree</td>\n",
       "      <td>0.557301</td>\n",
       "      <td>0.567442</td>\n",
       "      <td>0.592593</td>\n",
       "      <td>0.870239</td>\n",
       "    </tr>\n",
       "    <tr>\n",
       "      <th>2</th>\n",
       "      <td>Random Forest</td>\n",
       "      <td>0.543840</td>\n",
       "      <td>0.555191</td>\n",
       "      <td>0.688099</td>\n",
       "      <td>0.896062</td>\n",
       "    </tr>\n",
       "    <tr>\n",
       "      <th>2</th>\n",
       "      <td>Logistic Regression</td>\n",
       "      <td>0.538270</td>\n",
       "      <td>0.546401</td>\n",
       "      <td>0.685605</td>\n",
       "      <td>0.896062</td>\n",
       "    </tr>\n",
       "    <tr>\n",
       "      <th>2</th>\n",
       "      <td>Knn</td>\n",
       "      <td>0.534046</td>\n",
       "      <td>0.539683</td>\n",
       "      <td>0.655004</td>\n",
       "      <td>0.893480</td>\n",
       "    </tr>\n",
       "    <tr>\n",
       "      <th>2</th>\n",
       "      <td>Gradient Boosting Classifier</td>\n",
       "      <td>0.519854</td>\n",
       "      <td>0.513698</td>\n",
       "      <td>0.719752</td>\n",
       "      <td>0.897999</td>\n",
       "    </tr>\n",
       "  </tbody>\n",
       "</table>\n",
       "</div>"
      ],
      "text/plain": [
       "                          model    recall  f1-score  precision  accuracy\n",
       "2         Bernoulli Naive Bayes  0.675232  0.632390   0.614506  0.826985\n",
       "2          Gaussian Naive Bayes  0.660506  0.633699   0.618641  0.840542\n",
       "2                 Decision Tree  0.557301  0.567442   0.592593  0.870239\n",
       "2                 Random Forest  0.543840  0.555191   0.688099  0.896062\n",
       "2           Logistic Regression  0.538270  0.546401   0.685605  0.896062\n",
       "2                           Knn  0.534046  0.539683   0.655004  0.893480\n",
       "2  Gradient Boosting Classifier  0.519854  0.513698   0.719752  0.897999"
      ]
     },
     "execution_count": 120,
     "metadata": {},
     "output_type": "execute_result"
    }
   ],
   "source": [
    "baseline_model_summary = baseline_model[baseline_model['grouping'] == 'macro_avg']\n",
    "baseline_model_summary[['model','recall','f1-score','precision','accuracy']]"
   ]
  },
  {
   "cell_type": "code",
   "execution_count": 39,
   "metadata": {},
   "outputs": [
    {
     "data": {
      "image/png": "[encoded data removed]",
      "text/plain": [
       "<Figure size 473.975x360 with 1 Axes>"
      ]
     },
     "metadata": {},
     "output_type": "display_data"
    }
   ],
   "source": [
    "sns.catplot(\n",
    "    data=baseline_model, \n",
    "    kind=\"bar\",\n",
    "    x='recall', \n",
    "    y=\"model\", \n",
    "    hue=\"grouping\",\n",
    "    hue_order=['macro_avg','weighted_avg','depressed_no','depressed_yes'],\n",
    "    alpha = 0.8\n",
    ")\n",
    "\n",
    "pass"
   ]
  },
  {
   "cell_type": "code",
   "execution_count": 23,
   "metadata": {},
   "outputs": [
    {
     "data": {
      "image/png": "[encoded data removed]",
      "text/plain": [
       "<Figure size 473.975x360 with 1 Axes>"
      ]
     },
     "metadata": {
      "needs_background": "light"
     },
     "output_type": "display_data"
    }
   ],
   "source": [
    "sns.catplot(\n",
    "    data=baseline_model, \n",
    "    kind=\"bar\",\n",
    "    x='f1-score', \n",
    "    y=\"model\", \n",
    "    hue=\"grouping\",\n",
    "    hue_order=['macro_avg','weighted_avg','depressed_no','depressed_yes'],\n",
    "    alpha = 0.8\n",
    ")\n",
    "\n",
    "pass"
   ]
  },
  {
   "cell_type": "markdown",
   "metadata": {},
   "source": [
    "## Error Analysis"
   ]
  },
  {
   "cell_type": "code",
   "execution_count": 24,
   "metadata": {},
   "outputs": [
    {
     "data": {
      "image/png": "[encoded data removed]",
      "text/plain": [
       "<Figure size 360x360 with 2 Axes>"
      ]
     },
     "metadata": {
      "needs_background": "light"
     },
     "output_type": "display_data"
    }
   ],
   "source": [
    "cm = confusion_matrix(predictions['actuals'], predictions['pred_bernoulli_naive_bayes'])\n",
    "disp = ConfusionMatrixDisplay(confusion_matrix=cm)\n",
    "fig, ax = plt.subplots(figsize=(5,5))\n",
    "disp = disp.plot(include_values=True, cmap='viridis', ax=ax, xticks_rotation='horizontal')    \n",
    "plt.grid(False)\n",
    "plt.show()"
   ]
  },
  {
   "cell_type": "code",
   "execution_count": 42,
   "metadata": {},
   "outputs": [
    {
     "data": {
      "image/png": "[encoded data removed]",
      "text/plain": [
       "<Figure size 414.35x360 with 1 Axes>"
      ]
     },
     "metadata": {},
     "output_type": "display_data"
    },
    {
     "data": {
      "image/png": "[encoded data removed]",
      "text/plain": [
       "<Figure size 414.35x360 with 1 Axes>"
      ]
     },
     "metadata": {},
     "output_type": "display_data"
    },
    {
     "data": {
      "image/png": "[encoded data removed]",
      "text/plain": [
       "<Figure size 414.35x360 with 1 Axes>"
      ]
     },
     "metadata": {},
     "output_type": "display_data"
    },
    {
     "data": {
      "image/png": "[encoded data removed]",
      "text/plain": [
       "<Figure size 414.35x360 with 1 Axes>"
      ]
     },
     "metadata": {},
     "output_type": "display_data"
    },
    {
     "data": {
      "image/png": "[encoded data removed]",
      "text/plain": [
       "<Figure size 414.35x360 with 1 Axes>"
      ]
     },
     "metadata": {},
     "output_type": "display_data"
    },
    {
     "data": {
      "image/png": "[encoded data removed]",
      "text/plain": [
       "<Figure size 414.35x360 with 1 Axes>"
      ]
     },
     "metadata": {},
     "output_type": "display_data"
    },
    {
     "data": {
      "image/png": "[encoded data removed]",
      "text/plain": [
       "<Figure size 414.35x360 with 1 Axes>"
      ]
     },
     "metadata": {},
     "output_type": "display_data"
    },
    {
     "data": {
      "image/png": "[encoded data removed]",
      "text/plain": [
       "<Figure size 414.35x360 with 1 Axes>"
      ]
     },
     "metadata": {},
     "output_type": "display_data"
    },
    {
     "data": {
      "image/png": "[encoded data removed]",
      "text/plain": [
       "<Figure size 414.35x360 with 1 Axes>"
      ]
     },
     "metadata": {},
     "output_type": "display_data"
    },
    {
     "data": {
      "image/png": "[encoded data removed]",
      "text/plain": [
       "<Figure size 414.35x360 with 1 Axes>"
      ]
     },
     "metadata": {},
     "output_type": "display_data"
    }
   ],
   "source": [
    "create_error_plots(\n",
    "    y_actuals = predictions['actuals'],\n",
    "    y_predictions = predictions['pred_bernoulli_naive_bayes'],\n",
    "    x_test_matrix = x_test,\n",
    "    x_test_columns = dep_screener_cols,\n",
    "    columns_to_plot = dep_screener_cols,\n",
    "    show_density_plot=False\n",
    ")"
   ]
  },
  {
   "cell_type": "markdown",
   "metadata": {},
   "source": [
    "## Feature Importance"
   ]
  },
  {
   "cell_type": "code",
   "execution_count": 121,
   "metadata": {},
   "outputs": [
    {
     "name": "stdout",
     "output_type": "stream",
     "text": [
      "(6192, 116)\n",
      "(1549, 116)\n",
      "(6192,)\n",
      "(1549,)\n"
     ]
    }
   ],
   "source": [
    "x_train, x_test, y_train, y_test = get_model_data(\n",
    "    original_df = cdc_survey_pmom,\n",
    "    columns = candidate_features\n",
    ")\n",
    "\n",
    "print(x_train.shape)\n",
    "print(x_test.shape)\n",
    "print(y_train.shape)\n",
    "print(y_test.shape)\n",
    "\n",
    "baseline_model, predictions = generate_models(\n",
    "    x_train, \n",
    "    y_train, \n",
    "    x_test, \n",
    "    y_test\n",
    ")"
   ]
  },
  {
   "cell_type": "code",
   "execution_count": 122,
   "metadata": {},
   "outputs": [],
   "source": [
    "# Gaussian Naive Bayes\n",
    "gnb = GaussianNB()\n",
    "gnb.fit(x_train, y_train)\n",
    "perm_importance = permutation_importance(gnb, x_test, y_test, n_repeats=10,random_state=0)"
   ]
  },
  {
   "cell_type": "code",
   "execution_count": 104,
   "metadata": {},
   "outputs": [
    {
     "data": {
      "text/plain": [
       "118"
      ]
     },
     "execution_count": 104,
     "metadata": {},
     "output_type": "execute_result"
    }
   ],
   "source": [
    "len(candidate_features)"
   ]
  },
  {
   "cell_type": "code",
   "execution_count": 127,
   "metadata": {},
   "outputs": [
    {
     "data": {
      "text/html": [
       "<div>\n",
       "<style scoped>\n",
       "    .dataframe tbody tr th:only-of-type {\n",
       "        vertical-align: middle;\n",
       "    }\n",
       "\n",
       "    .dataframe tbody tr th {\n",
       "        vertical-align: top;\n",
       "    }\n",
       "\n",
       "    .dataframe thead th {\n",
       "        text-align: right;\n",
       "    }\n",
       "</style>\n",
       "<table border=\"1\" class=\"dataframe\">\n",
       "  <thead>\n",
       "    <tr style=\"text-align: right;\">\n",
       "      <th></th>\n",
       "      <th>feature</th>\n",
       "      <th>importance_mean</th>\n",
       "      <th>importance_std</th>\n",
       "    </tr>\n",
       "  </thead>\n",
       "  <tbody>\n",
       "    <tr>\n",
       "      <th>5</th>\n",
       "      <td>feeling_bad_about_yourself</td>\n",
       "      <td>0.007941</td>\n",
       "      <td>0.001043</td>\n",
       "    </tr>\n",
       "    <tr>\n",
       "      <th>9</th>\n",
       "      <td>difficult_doing_daytoday_tasks</td>\n",
       "      <td>0.005423</td>\n",
       "      <td>0.002164</td>\n",
       "    </tr>\n",
       "    <tr>\n",
       "      <th>8</th>\n",
       "      <td>thoughts_you_would_be_better_off_dead</td>\n",
       "      <td>0.004713</td>\n",
       "      <td>0.001894</td>\n",
       "    </tr>\n",
       "    <tr>\n",
       "      <th>55</th>\n",
       "      <td>heart_attack</td>\n",
       "      <td>0.003357</td>\n",
       "      <td>0.001798</td>\n",
       "    </tr>\n",
       "    <tr>\n",
       "      <th>71</th>\n",
       "      <td>metal_objects</td>\n",
       "      <td>0.003163</td>\n",
       "      <td>0.001171</td>\n",
       "    </tr>\n",
       "    <tr>\n",
       "      <th>...</th>\n",
       "      <td>...</td>\n",
       "      <td>...</td>\n",
       "      <td>...</td>\n",
       "    </tr>\n",
       "    <tr>\n",
       "      <th>40</th>\n",
       "      <td>time_since_last_healthcare</td>\n",
       "      <td>-0.002905</td>\n",
       "      <td>0.002728</td>\n",
       "    </tr>\n",
       "    <tr>\n",
       "      <th>80</th>\n",
       "      <td>duration_last_healthcare_visit</td>\n",
       "      <td>-0.002905</td>\n",
       "      <td>0.002728</td>\n",
       "    </tr>\n",
       "    <tr>\n",
       "      <th>59</th>\n",
       "      <td>abdominal_pain</td>\n",
       "      <td>-0.003228</td>\n",
       "      <td>0.001555</td>\n",
       "    </tr>\n",
       "    <tr>\n",
       "      <th>43</th>\n",
       "      <td>have_health_insurance</td>\n",
       "      <td>-0.003809</td>\n",
       "      <td>0.001273</td>\n",
       "    </tr>\n",
       "    <tr>\n",
       "      <th>114</th>\n",
       "      <td>has_health_insurance</td>\n",
       "      <td>-0.003809</td>\n",
       "      <td>0.001273</td>\n",
       "    </tr>\n",
       "  </tbody>\n",
       "</table>\n",
       "<p>116 rows × 3 columns</p>\n",
       "</div>"
      ],
      "text/plain": [
       "                                   feature  importance_mean  importance_std\n",
       "5               feeling_bad_about_yourself         0.007941        0.001043\n",
       "9           difficult_doing_daytoday_tasks         0.005423        0.002164\n",
       "8    thoughts_you_would_be_better_off_dead         0.004713        0.001894\n",
       "55                            heart_attack         0.003357        0.001798\n",
       "71                           metal_objects         0.003163        0.001171\n",
       "..                                     ...              ...             ...\n",
       "40              time_since_last_healthcare        -0.002905        0.002728\n",
       "80          duration_last_healthcare_visit        -0.002905        0.002728\n",
       "59                          abdominal_pain        -0.003228        0.001555\n",
       "43                   have_health_insurance        -0.003809        0.001273\n",
       "114                   has_health_insurance        -0.003809        0.001273\n",
       "\n",
       "[116 rows x 3 columns]"
      ]
     },
     "execution_count": 127,
     "metadata": {},
     "output_type": "execute_result"
    }
   ],
   "source": [
    "gnb_importances = pd.DataFrame({\n",
    "    'feature':candidate_features,\n",
    "    'importance_mean':perm_importance['importances_mean'],\n",
    "    'importance_std':perm_importance['importances_std']\n",
    "}).sort_values(by='importance_mean',ascending=False)\n",
    "gnb_importances"
   ]
  },
  {
   "cell_type": "code",
   "execution_count": 80,
   "metadata": {},
   "outputs": [],
   "source": [
    "def get_random_forest_n_top_features(train_data=x_train, \n",
    "                                     train_labels=y_train,\n",
    "                                     feature_columns=dep_screener_cols):\n",
    "    \"\"\"\n",
    "    A model that trains a random forest model and returns the feature importances as a dataframe.\n",
    "    The index of the row corresponds to the column index in the initial array\n",
    "    \"\"\"\n",
    "    \n",
    "    # fit random forest and print accuracy\n",
    "    rf = RandomForestClassifier(random_state=0)\n",
    "    rf.fit(train_data, train_labels)\n",
    "   \n",
    "    # list feature importances\n",
    "    # Get numerical feature importances\n",
    "    importances = list(rf.feature_importances_)\n",
    "    feature_importances = pd.DataFrame({'Feature': feature_columns,'Coefficient': importances})\n",
    "    feature_importances = feature_importances.sort_values('Coefficient',ascending=False)\n",
    "    \n",
    "    return feature_importances"
   ]
  },
  {
   "cell_type": "code",
   "execution_count": 81,
   "metadata": {},
   "outputs": [
    {
     "data": {
      "text/html": [
       "<div>\n",
       "<style scoped>\n",
       "    .dataframe tbody tr th:only-of-type {\n",
       "        vertical-align: middle;\n",
       "    }\n",
       "\n",
       "    .dataframe tbody tr th {\n",
       "        vertical-align: top;\n",
       "    }\n",
       "\n",
       "    .dataframe thead th {\n",
       "        text-align: right;\n",
       "    }\n",
       "</style>\n",
       "<table border=\"1\" class=\"dataframe\">\n",
       "  <thead>\n",
       "    <tr style=\"text-align: right;\">\n",
       "      <th></th>\n",
       "      <th>Feature</th>\n",
       "      <th>Coefficient</th>\n",
       "    </tr>\n",
       "  </thead>\n",
       "  <tbody>\n",
       "    <tr>\n",
       "      <th>1</th>\n",
       "      <td>feeling_down_depressed_hopeless</td>\n",
       "      <td>0.116370</td>\n",
       "    </tr>\n",
       "    <tr>\n",
       "      <th>4</th>\n",
       "      <td>poor_appetitie_or_overeating</td>\n",
       "      <td>0.116036</td>\n",
       "    </tr>\n",
       "    <tr>\n",
       "      <th>2</th>\n",
       "      <td>trouble_falling_or_staying_asleep</td>\n",
       "      <td>0.113776</td>\n",
       "    </tr>\n",
       "    <tr>\n",
       "      <th>6</th>\n",
       "      <td>trouble_concentrating</td>\n",
       "      <td>0.107036</td>\n",
       "    </tr>\n",
       "    <tr>\n",
       "      <th>9</th>\n",
       "      <td>difficult_doing_daytoday_tasks</td>\n",
       "      <td>0.105663</td>\n",
       "    </tr>\n",
       "    <tr>\n",
       "      <th>0</th>\n",
       "      <td>little_interest_in_doing_things</td>\n",
       "      <td>0.105246</td>\n",
       "    </tr>\n",
       "    <tr>\n",
       "      <th>3</th>\n",
       "      <td>feeling_tired_or_having_little_energy</td>\n",
       "      <td>0.104398</td>\n",
       "    </tr>\n",
       "    <tr>\n",
       "      <th>5</th>\n",
       "      <td>feeling_bad_about_yourself</td>\n",
       "      <td>0.099671</td>\n",
       "    </tr>\n",
       "    <tr>\n",
       "      <th>7</th>\n",
       "      <td>moving_or_speaking_to_slowly_or_fast</td>\n",
       "      <td>0.088079</td>\n",
       "    </tr>\n",
       "    <tr>\n",
       "      <th>8</th>\n",
       "      <td>thoughts_you_would_be_better_off_dead</td>\n",
       "      <td>0.043725</td>\n",
       "    </tr>\n",
       "  </tbody>\n",
       "</table>\n",
       "</div>"
      ],
      "text/plain": [
       "                                 Feature  Coefficient\n",
       "1        feeling_down_depressed_hopeless     0.116370\n",
       "4           poor_appetitie_or_overeating     0.116036\n",
       "2      trouble_falling_or_staying_asleep     0.113776\n",
       "6                  trouble_concentrating     0.107036\n",
       "9         difficult_doing_daytoday_tasks     0.105663\n",
       "0        little_interest_in_doing_things     0.105246\n",
       "3  feeling_tired_or_having_little_energy     0.104398\n",
       "5             feeling_bad_about_yourself     0.099671\n",
       "7   moving_or_speaking_to_slowly_or_fast     0.088079\n",
       "8  thoughts_you_would_be_better_off_dead     0.043725"
      ]
     },
     "execution_count": 81,
     "metadata": {},
     "output_type": "execute_result"
    }
   ],
   "source": [
    "get_random_forest_n_top_features()"
   ]
  },
  {
   "cell_type": "code",
   "execution_count": 90,
   "metadata": {},
   "outputs": [],
   "source": [
    "cor_columns = candidate_features.copy()\n",
    "cor_columns.append('MDD')\n",
    "correlation_matrix = cdc_survey_pmom[cor_columns].corr(method='pearson')\n",
    "\n",
    "correlation_values_abs = abs(correlation_matrix['MDD']).sort_values(ascending=False)\n",
    "correlation_values_abs = correlation_values_abs[correlation_values_abs.notna()]"
   ]
  },
  {
   "cell_type": "code",
   "execution_count": 91,
   "metadata": {},
   "outputs": [
    {
     "data": {
      "text/plain": [
       "MDD                                      1.000000\n",
       "seen_mental_health_professional          0.281615\n",
       "feeling_down_depressed_hopeless          0.266087\n",
       "difficult_doing_daytoday_tasks           0.251297\n",
       "feeling_tired_or_having_little_energy    0.225408\n",
       "                                           ...   \n",
       "diabetes_pregnancy                       0.006104\n",
       "milk_consumption_freq                    0.004062\n",
       "has_health_insurance_gap                 0.002609\n",
       "days_4plus_drinks_occasion               0.001035\n",
       "fastfood_meals                           0.000599\n",
       "Name: MDD, Length: 116, dtype: float64"
      ]
     },
     "execution_count": 91,
     "metadata": {},
     "output_type": "execute_result"
    }
   ],
   "source": [
    "correlation_values_abs"
   ]
  },
  {
   "cell_type": "markdown",
   "metadata": {},
   "source": [
    "## Optimizations"
   ]
  }
 ],
 "metadata": {
  "kernelspec": {
   "display_name": "Python 3",
   "language": "python",
   "name": "python3"
  },
  "language_info": {
   "codemirror_mode": {
    "name": "ipython",
    "version": 3
   },
   "file_extension": ".py",
   "mimetype": "text/x-python",
   "name": "python",
   "nbconvert_exporter": "python",
   "pygments_lexer": "ipython3",
   "version": "3.8.5"
  }
 },
 "nbformat": 4,
 "nbformat_minor": 4
}
