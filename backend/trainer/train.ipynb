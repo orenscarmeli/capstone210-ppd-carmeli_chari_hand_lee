{
 "cells": [
  {
   "attachments": {},
   "cell_type": "markdown",
   "metadata": {},
   "source": [
    "# Modeling"
   ]
  },
  {
   "cell_type": "code",
   "execution_count": 1,
   "metadata": {},
   "outputs": [],
   "source": [
    "from operator import mod\n",
    "from os import getcwd\n",
    "from os.path import exists, join\n",
    "\n",
    "import joblib\n",
    "from sklearn.datasets import fetch_california_housing\n",
    "from sklearn.impute import SimpleImputer\n",
    "from sklearn.impute import KNNImputer\n",
    "\n",
    "from sklearn.model_selection import GridSearchCV, train_test_split\n",
    "from sklearn.pipeline import make_pipeline\n",
    "from sklearn.preprocessing import RobustScaler\n",
    "from sklearn.svm import SVR\n",
    "import pandas as pd\n",
    "import numpy as np\n",
    "from ydata_profiling import ProfileReport\n",
    "import random\n",
    "import ast\n"
   ]
  },
  {
   "cell_type": "code",
   "execution_count": 30,
   "metadata": {},
   "outputs": [],
   "source": [
    "from sklearn import preprocessing\n",
    "from sklearn.neighbors import KNeighborsClassifier\n",
    "from sklearn.metrics import classification_report, confusion_matrix, ConfusionMatrixDisplay\n",
    "from sklearn.naive_bayes import BernoulliNB\n",
    "from sklearn.naive_bayes import GaussianNB\n",
    "from sklearn.naive_bayes import MultinomialNB\n",
    "from sklearn.model_selection import GridSearchCV\n",
    "import xgboost as xgb\n",
    "\n",
    "from sklearn.linear_model import LogisticRegression, LinearRegression\n",
    "import warnings\n",
    "from sklearn import metrics\n",
    "from sklearn.preprocessing import StandardScaler\n",
    "from sklearn.preprocessing import MinMaxScaler\n",
    "from sklearn.preprocessing import Normalizer\n",
    "from sklearn.decomposition import PCA\n",
    "from sklearn.ensemble import RandomForestClassifier\n",
    "from sklearn.tree import DecisionTreeClassifier\n",
    "from sklearn.ensemble import ExtraTreesClassifier\n",
    "import matplotlib.pyplot as plt\n",
    "from sklearn.ensemble import  GradientBoostingClassifier\n",
    "\n",
    "import seaborn as sns\n",
    "from sklearn.metrics import confusion_matrix\n",
    "from sklearn.svm import SVC, LinearSVC \n",
    "from sklearn.neural_network import MLPClassifier\n",
    "\n",
    "from sklearn.metrics import recall_score\n",
    "\n",
    "from sklearn import tree\n",
    "from sklearn.decomposition import PCA, SparsePCA\n",
    "\n",
    "from sklearn.mixture import GaussianMixture\n",
    "from sklearn.decomposition import PCA\n",
    "import json\n",
    "import pickle\n",
    "from IPython.display import Image\n",
    "import warnings\n",
    "from sklearn.metrics import classification_report\n",
    "from scipy.stats import uniform\n",
    "from sklearn.model_selection import RandomizedSearchCV\n",
    "from sklearn.preprocessing import RobustScaler, KBinsDiscretizer\n",
    "\n",
    "from sklearn.base import TransformerMixin"
   ]
  },
  {
   "cell_type": "code",
   "execution_count": 3,
   "metadata": {},
   "outputs": [],
   "source": [
    "from sklearn.datasets import make_classification\n",
    "from imblearn.over_sampling import RandomOverSampler\n",
    "from imblearn.under_sampling import RandomUnderSampler\n",
    "from imblearn.over_sampling import SMOTE\n",
    "from collections import Counter\n",
    "\n",
    "from tqdm import tqdm\n",
    "\n",
    "tqdm.pandas()"
   ]
  },
  {
   "cell_type": "code",
   "execution_count": 4,
   "metadata": {},
   "outputs": [],
   "source": [
    "# Depression screener\n",
    "dep_screener_cols = [\n",
    "    'little_interest_in_doing_things',\n",
    "    'feeling_down_depressed_hopeless',\n",
    "    'trouble_falling_or_staying_asleep',\n",
    "    'feeling_tired_or_having_little_energy',\n",
    "    'poor_appetitie_or_overeating',\n",
    "    'feeling_bad_about_yourself',\n",
    "    'trouble_concentrating',\n",
    "    'moving_or_speaking_to_slowly_or_fast',\n",
    "    'thoughts_you_would_be_better_off_dead',\n",
    "    'difficult_doing_daytoday_tasks'\n",
    "]\n",
    "model_features_opt2 = dep_screener_cols + [\n",
    "    'seen_mental_health_professional',\n",
    "    'times_with_12plus_alc',\n",
    "    'time_since_last_healthcare',\n",
    "    'cholesterol_prescription',\n",
    "    'high_cholesterol',\n",
    "    'age_in_years',\n",
    "    'horomones_not_bc',\n",
    "    'months_since_birth',\n",
    "    'arthritis',\n",
    "    'high_bp',\n",
    "    'regular_periods',\n",
    "    'moderate_recreation',\n",
    "    'thyroid_issues',\n",
    "    'vigorous_recreation',\n",
    "    'stroke',\n",
    "    'is_usa_born',\n",
    "    'asthma',\n",
    "    'count_days_moderate_recreational_activity',\n",
    "    'have_health_insurance',\n",
    "    'num_dep_screener_0',\n",
    "    'weight_lbs_over_height_in_ratio'\n",
    "]\n",
    "\n",
    "model_features_low_opt7 = [\n",
    "    'count_days_seen_doctor_12mo_bin',\n",
    "    'times_with_12plus_alc',\n",
    "    'seen_mental_health_professional',\n",
    "    'count_lost_10plus_pounds',\n",
    "    'arthritis',\n",
    "    'horomones_not_bc',\n",
    "    'is_usa_born',\n",
    "    'times_with_8plus_alc',\n",
    "    'time_since_last_healthcare',\n",
    "    'duration_last_healthcare_visit',\n",
    "    'work_schedule'\n",
    "]\n",
    "\n",
    "columns_to_use_low = model_features_low_opt7\n",
    "columns_to_use_high = model_features_opt2"
   ]
  },
  {
   "cell_type": "code",
   "execution_count": 22,
   "metadata": {},
   "outputs": [
    {
     "data": {
      "text/plain": [
       "['little_interest_in_doing_things',\n",
       " 'feeling_down_depressed_hopeless',\n",
       " 'trouble_falling_or_staying_asleep',\n",
       " 'feeling_tired_or_having_little_energy',\n",
       " 'poor_appetitie_or_overeating',\n",
       " 'feeling_bad_about_yourself',\n",
       " 'trouble_concentrating',\n",
       " 'moving_or_speaking_to_slowly_or_fast',\n",
       " 'thoughts_you_would_be_better_off_dead',\n",
       " 'difficult_doing_daytoday_tasks',\n",
       " 'seen_mental_health_professional',\n",
       " 'times_with_12plus_alc',\n",
       " 'time_since_last_healthcare',\n",
       " 'cholesterol_prescription',\n",
       " 'high_cholesterol',\n",
       " 'age_in_years',\n",
       " 'horomones_not_bc',\n",
       " 'months_since_birth',\n",
       " 'arthritis',\n",
       " 'high_bp',\n",
       " 'regular_periods',\n",
       " 'moderate_recreation',\n",
       " 'thyroid_issues',\n",
       " 'vigorous_recreation',\n",
       " 'stroke',\n",
       " 'is_usa_born',\n",
       " 'asthma',\n",
       " 'count_days_moderate_recreational_activity',\n",
       " 'have_health_insurance',\n",
       " 'num_dep_screener_0',\n",
       " 'weight_lbs_over_height_in_ratio']"
      ]
     },
     "execution_count": 22,
     "metadata": {},
     "output_type": "execute_result"
    }
   ],
   "source": [
    "columns_to_use_high"
   ]
  },
  {
   "cell_type": "code",
   "execution_count": 29,
   "metadata": {},
   "outputs": [
    {
     "name": "stdout",
     "output_type": "stream",
     "text": [
      "'little_interest_in_doing_things' : 1\n",
      "'feeling_down_depressed_hopeless' : 1\n",
      "'trouble_falling_or_staying_asleep' : 1\n",
      "'feeling_tired_or_having_little_energy' : 1\n",
      "'poor_appetitie_or_overeating' : 1\n",
      "'feeling_bad_about_yourself' : 1\n",
      "'trouble_concentrating' : 1\n",
      "'moving_or_speaking_to_slowly_or_fast' : 1\n",
      "'thoughts_you_would_be_better_off_dead' : 1\n",
      "'difficult_doing_daytoday_tasks' : 1\n",
      "'seen_mental_health_professional' : 1\n",
      "'times_with_12plus_alc' : 1\n",
      "'time_since_last_healthcare' : 1\n",
      "'cholesterol_prescription' : 1\n",
      "'high_cholesterol' : 1\n",
      "'age_in_years' : 1\n",
      "'horomones_not_bc' : 1\n",
      "'months_since_birth' : 1\n",
      "'arthritis' : 1\n",
      "'high_bp' : 1\n",
      "'regular_periods' : 1\n",
      "'moderate_recreation' : 1\n",
      "'thyroid_issues' : 1\n",
      "'vigorous_recreation' : 1\n",
      "'stroke' : 1\n",
      "'is_usa_born' : 1\n",
      "'asthma' : 1\n",
      "'count_days_moderate_recreational_activity' : 1\n",
      "'have_health_insurance' : 1\n",
      "'num_dep_screener_0' : 1\n",
      "'weight_lbs_over_height_in_ratio' : 1\n"
     ]
    }
   ],
   "source": [
    "for l in ['little_interest_in_doing_things',\n",
    " 'feeling_down_depressed_hopeless',\n",
    " 'trouble_falling_or_staying_asleep',\n",
    " 'feeling_tired_or_having_little_energy',\n",
    " 'poor_appetitie_or_overeating',\n",
    " 'feeling_bad_about_yourself',\n",
    " 'trouble_concentrating',\n",
    " 'moving_or_speaking_to_slowly_or_fast',\n",
    " 'thoughts_you_would_be_better_off_dead',\n",
    " 'difficult_doing_daytoday_tasks',\n",
    " 'seen_mental_health_professional',\n",
    " 'times_with_12plus_alc',\n",
    " 'time_since_last_healthcare',\n",
    " 'cholesterol_prescription',\n",
    " 'high_cholesterol',\n",
    " 'age_in_years',\n",
    " 'horomones_not_bc',\n",
    " 'months_since_birth',\n",
    " 'arthritis',\n",
    " 'high_bp',\n",
    " 'regular_periods',\n",
    " 'moderate_recreation',\n",
    " 'thyroid_issues',\n",
    " 'vigorous_recreation',\n",
    " 'stroke',\n",
    " 'is_usa_born',\n",
    " 'asthma',\n",
    " 'count_days_moderate_recreational_activity',\n",
    " 'have_health_insurance',\n",
    " 'num_dep_screener_0',\n",
    " 'weight_lbs_over_height_in_ratio']:\n",
    " print(\"'\"+l+\"'\", ':', 1)\n",
    "#  print(l, ': float | None = None')"
   ]
  },
  {
   "cell_type": "code",
   "execution_count": 5,
   "metadata": {},
   "outputs": [
    {
     "data": {
      "text/plain": [
       "31"
      ]
     },
     "execution_count": 5,
     "metadata": {},
     "output_type": "execute_result"
    }
   ],
   "source": [
    "len({'age_in_years': 0,\n",
    " 'height_in': 48,\n",
    " 'weight_lbs': 75,\n",
    " 'is_usa_born': 1,\n",
    " 'have_health_insurance': 1,\n",
    " 'months_since_birth': 1,\n",
    " 'regular_periods': 2,\n",
    " 'horomones_not_bc': 2,\n",
    " 'time_since_last_healthcare': 0,\n",
    " 'seen_mental_health_professional': 1,\n",
    " 'little_interest_in_doing_things': 3,\n",
    " 'feeling_down_depressed_hopeless': 2,\n",
    " 'trouble_falling_or_staying_asleep': 1,\n",
    " 'feeling_tired_or_having_little_energy': 0,\n",
    " 'poor_appetitie_or_overeating': 2,\n",
    " 'feeling_bad_about_yourself': 2,\n",
    " 'trouble_concentrating': 2,\n",
    " 'moving_or_speaking_to_slowly_or_fast': 1,\n",
    " 'thoughts_you_would_be_better_off_dead': 1,\n",
    " 'difficult_doing_daytoday_tasks': 2,\n",
    " 'times_with_12plus_alc': 2,\n",
    " 'high_cholesterol': 1,\n",
    " 'cholesterol_prescription': 2,\n",
    " 'high_bp': 1,\n",
    " 'moderate_recreation': 1,\n",
    " 'count_days_moderate_recreational_activity': 4,\n",
    " 'vigorous_recreation': 1,\n",
    " 'thyroid_issues': 2,\n",
    " 'arthritis': 2,\n",
    " 'stroke': 1,\n",
    " 'asthma': 1})"
   ]
  },
  {
   "cell_type": "markdown",
   "metadata": {},
   "source": [
    "# Opt 9: Ensemble Model\n",
    "\n",
    "Build 2 models with different feature set\n",
    "- Model 1: \n",
    " - GB trained on observations with 1+ dep screener response. \n",
    " - Uses features from opt 2. \n",
    " - Uses undersampler.\n",
    "- Model 2: \n",
    " - RF trained on observations with 0 dep screener response. \n",
    " - Uses features from opt 7. \n",
    " - Uses undersampler\n",
    "\n",
    "Notes\n",
    "- _low = has 9+ dep screeners answered 0\n",
    "- _high = has <9 dep screeners answered 0"
   ]
  },
  {
   "cell_type": "code",
   "execution_count": 6,
   "metadata": {},
   "outputs": [
    {
     "data": {
      "text/plain": [
       "36"
      ]
     },
     "execution_count": 6,
     "metadata": {},
     "output_type": "execute_result"
    }
   ],
   "source": [
    "len(list(set([model_features_low_opt7 + model_features_opt2][0])))"
   ]
  },
  {
   "cell_type": "code",
   "execution_count": 8,
   "metadata": {},
   "outputs": [],
   "source": [
    "\n",
    "# class CustomFeatures(TransformerMixin):\n",
    "#     def __init__(self, some_stuff=None, column_names= []):\n",
    "#         pass\n",
    "#         # self.some_stuff = some_stuff\n",
    "#         self.column_names = column_names\n",
    "#     def fit(self, X, y=None):\n",
    "#         return self\n",
    "\n",
    "#     def transform(self, X):\n",
    "#         # do stuff on X, and return dataframe\n",
    "#         # of the same shape - this gets messy\n",
    "#         # if the preceding item is a numpy array\n",
    "#         # and not a dataframe\n",
    "#         if isinstance(X, np.ndarray):\n",
    "#             X = pd.DataFrame(X)\n",
    "#         X['num_dep_screener_0'] = (X[dep_screener_cols]==0).sum(axis=1)\n",
    "#         X['weight_lbs_over_height_in_ratio'] = round(X['weight_lbs'] / X['height_in'],1)\n",
    "\n",
    "#         return X\n",
    "\n",
    "\n",
    "# # # using this by itself works as well\n",
    "# # my_pipeline = make_pipeline(CustomFeatures(column_names=[\"my_str\", \"val\"]))\n",
    "# # my_pipeline.fit_transform(cdc_survey_pmom)"
   ]
  },
  {
   "cell_type": "code",
   "execution_count": 9,
   "metadata": {},
   "outputs": [],
   "source": [
    "class CustomBin(TransformerMixin):\n",
    "    def __init__(self, some_stuff=None, column_names= []):\n",
    "        pass\n",
    "        # self.some_stuff = some_stuff\n",
    "        self.column_names = column_names\n",
    "    def fit(self, X, y=None):\n",
    "        return self\n",
    "\n",
    "    def transform(self, X):\n",
    "        # do stuff on X, and return dataframe\n",
    "        # of the same shape - this gets messy\n",
    "        # if the preceding item is a numpy array\n",
    "        # and not a dataframe\n",
    "        # if isinstance(X, np.ndarray):\n",
    "        #     X = pd.DataFrame(X, columns=self.column_names)\n",
    "        feature_values = X.dropna().values\n",
    "        feature_values = feature_values.reshape([feature_values.shape[0],1])\n",
    "\n",
    "        # create bins using estimator\n",
    "        est = KBinsDiscretizer(\n",
    "            n_bins=10,\n",
    "            encode='ordinal', \n",
    "            strategy='uniform', \n",
    "            subsample=None\n",
    "        )\n",
    "        est.fit(feature_values)\n",
    "        feature_values = est.transform(feature_values)\n",
    "\n",
    "        fill_arr = X['count_days_seen_doctor_12mo'].values.copy()\n",
    "        fill_arr[~np.isnan(fill_arr)] = np.asarray([val[0] for val in feature_values])\n",
    "        X['count_days_seen_doctor_12mo_bin'] = fill_arr\n",
    "\n",
    "        return X\n",
    "\n",
    "\n",
    "# # using this by itself works as well\n",
    "# my_pipeline = make_pipeline(CustomBin(column_names=[\"my_str\", \"val\"]))\n",
    "# my_pipeline.fit_transform(cdc_survey_pmom)\n"
   ]
  },
  {
   "cell_type": "code",
   "execution_count": 10,
   "metadata": {},
   "outputs": [
    {
     "name": "stderr",
     "output_type": "stream",
     "text": [
      "/var/folders/0k/kvbyl6wn7kl2qbt7_94pckjw0000gn/T/ipykernel_56490/682905248.py:2: DtypeWarning: Columns (664,665) have mixed types. Specify dtype option on import or set low_memory=False.\n",
      "  df_cdc_clean = pd.read_csv('../../data/cdc_nhanes_survey_responses_clean.csv')\n"
     ]
    },
    {
     "name": "stdout",
     "output_type": "stream",
     "text": [
      "(7741, 863)\n"
     ]
    },
    {
     "name": "stderr",
     "output_type": "stream",
     "text": [
      "/var/folders/0k/kvbyl6wn7kl2qbt7_94pckjw0000gn/T/ipykernel_56490/682905248.py:9: SettingWithCopyWarning: \n",
      "A value is trying to be set on a copy of a slice from a DataFrame.\n",
      "Try using .loc[row_indexer,col_indexer] = value instead\n",
      "\n",
      "See the caveats in the documentation: https://pandas.pydata.org/pandas-docs/stable/user_guide/indexing.html#returning-a-view-versus-a-copy\n",
      "  cdc_survey_pmom['num_dep_screener_0'] = (cdc_survey_pmom[dep_screener_cols]==0).sum(axis=1)\n",
      "/var/folders/0k/kvbyl6wn7kl2qbt7_94pckjw0000gn/T/ipykernel_56490/682905248.py:10: SettingWithCopyWarning: \n",
      "A value is trying to be set on a copy of a slice from a DataFrame.\n",
      "Try using .loc[row_indexer,col_indexer] = value instead\n",
      "\n",
      "See the caveats in the documentation: https://pandas.pydata.org/pandas-docs/stable/user_guide/indexing.html#returning-a-view-versus-a-copy\n",
      "  cdc_survey_pmom['weight_lbs_over_height_in_ratio'] = round(df_cdc_clean['weight_lbs'] / cdc_survey_pmom['height_in'],1)\n",
      "/var/folders/0k/kvbyl6wn7kl2qbt7_94pckjw0000gn/T/ipykernel_56490/682905248.py:27: SettingWithCopyWarning: \n",
      "A value is trying to be set on a copy of a slice from a DataFrame.\n",
      "Try using .loc[row_indexer,col_indexer] = value instead\n",
      "\n",
      "See the caveats in the documentation: https://pandas.pydata.org/pandas-docs/stable/user_guide/indexing.html#returning-a-view-versus-a-copy\n",
      "  cdc_survey_pmom['count_days_seen_doctor_12mo_bin'] = fill_arr\n"
     ]
    }
   ],
   "source": [
    "# v2 csv\n",
    "df_cdc_clean = pd.read_csv('../../data/cdc_nhanes_survey_responses_clean.csv')\n",
    "\n",
    "# filter to pregnant moms\n",
    "cdc_survey_pmom = df_cdc_clean[df_cdc_clean['has_been_pregnant'] == 1]\n",
    "print(cdc_survey_pmom.shape)\n",
    "\n",
    "# add features\n",
    "cdc_survey_pmom['num_dep_screener_0'] = (cdc_survey_pmom[dep_screener_cols]==0).sum(axis=1)\n",
    "cdc_survey_pmom['weight_lbs_over_height_in_ratio'] = round(df_cdc_clean['weight_lbs'] / cdc_survey_pmom['height_in'],1)\n",
    "\n",
    "feature_values = cdc_survey_pmom['count_days_seen_doctor_12mo'].dropna().values\n",
    "feature_values = feature_values.reshape([feature_values.shape[0],1])\n",
    "\n",
    "# create bins using estimator\n",
    "est = KBinsDiscretizer(\n",
    "    n_bins=10,\n",
    "    encode='ordinal', \n",
    "    strategy='uniform', \n",
    "    subsample=None\n",
    ")\n",
    "est.fit(feature_values)\n",
    "feature_values = est.transform(feature_values)\n",
    "\n",
    "fill_arr = cdc_survey_pmom['count_days_seen_doctor_12mo'].values.copy()\n",
    "fill_arr[~np.isnan(fill_arr)] = np.asarray([val[0] for val in feature_values])\n",
    "cdc_survey_pmom['count_days_seen_doctor_12mo_bin'] = fill_arr\n",
    "\n",
    "\n",
    "\n"
   ]
  },
  {
   "cell_type": "code",
   "execution_count": 17,
   "metadata": {},
   "outputs": [
    {
     "name": "stdout",
     "output_type": "stream",
     "text": [
      "x_train_low_rus: (849, 11)\n"
     ]
    },
    {
     "data": {
      "text/html": [
       "<div>\n",
       "<style scoped>\n",
       "    .dataframe tbody tr th:only-of-type {\n",
       "        vertical-align: middle;\n",
       "    }\n",
       "\n",
       "    .dataframe tbody tr th {\n",
       "        vertical-align: top;\n",
       "    }\n",
       "\n",
       "    .dataframe thead th {\n",
       "        text-align: right;\n",
       "    }\n",
       "</style>\n",
       "<table border=\"1\" class=\"dataframe\">\n",
       "  <thead>\n",
       "    <tr style=\"text-align: right;\">\n",
       "      <th></th>\n",
       "      <th>0</th>\n",
       "      <th>1</th>\n",
       "      <th>accuracy</th>\n",
       "      <th>macro avg</th>\n",
       "      <th>weighted avg</th>\n",
       "    </tr>\n",
       "  </thead>\n",
       "  <tbody>\n",
       "    <tr>\n",
       "      <th>precision</th>\n",
       "      <td>0.966154</td>\n",
       "      <td>0.400000</td>\n",
       "      <td>0.949254</td>\n",
       "      <td>0.683077</td>\n",
       "      <td>0.940804</td>\n",
       "    </tr>\n",
       "    <tr>\n",
       "      <th>recall</th>\n",
       "      <td>0.981250</td>\n",
       "      <td>0.266667</td>\n",
       "      <td>0.949254</td>\n",
       "      <td>0.623958</td>\n",
       "      <td>0.949254</td>\n",
       "    </tr>\n",
       "    <tr>\n",
       "      <th>f1-score</th>\n",
       "      <td>0.973643</td>\n",
       "      <td>0.320000</td>\n",
       "      <td>0.949254</td>\n",
       "      <td>0.646822</td>\n",
       "      <td>0.944376</td>\n",
       "    </tr>\n",
       "    <tr>\n",
       "      <th>support</th>\n",
       "      <td>640.000000</td>\n",
       "      <td>30.000000</td>\n",
       "      <td>0.949254</td>\n",
       "      <td>670.000000</td>\n",
       "      <td>670.000000</td>\n",
       "    </tr>\n",
       "  </tbody>\n",
       "</table>\n",
       "</div>"
      ],
      "text/plain": [
       "                    0          1  accuracy   macro avg  weighted avg\n",
       "precision    0.966154   0.400000  0.949254    0.683077      0.940804\n",
       "recall       0.981250   0.266667  0.949254    0.623958      0.949254\n",
       "f1-score     0.973643   0.320000  0.949254    0.646822      0.944376\n",
       "support    640.000000  30.000000  0.949254  670.000000    670.000000"
      ]
     },
     "execution_count": 17,
     "metadata": {},
     "output_type": "execute_result"
    }
   ],
   "source": [
    "# subset to features and do preprocessing\n",
    "data_low_dep_screener = cdc_survey_pmom[cdc_survey_pmom['num_dep_screener_0'] >= 9].copy()\n",
    "data_low_dep_screener = data_low_dep_screener[['MDD'] + columns_to_use_low]\n",
    "y_low = data_low_dep_screener['MDD'].values\n",
    "x_low = data_low_dep_screener.iloc[:,1:].values\n",
    "\n",
    "x_train_low, x_test_low, y_train_low, y_test_low = train_test_split(\n",
    "    x_low, \n",
    "    y_low, \n",
    "    test_size=0.2, \n",
    "    random_state=42\n",
    ")\n",
    "\n",
    "# impute and scale\n",
    "imputer_low = SimpleImputer(strategy='median')  \n",
    "trans_low = RobustScaler()\n",
    "x_train_low = imputer_low.fit_transform(x_train_low)\n",
    "x_train_low = trans_low.fit_transform(x_train_low)\n",
    "x_test_low = imputer_low.fit_transform(x_test_low)\n",
    "x_test_low = trans_low.fit_transform(x_test_low)\n",
    "\n",
    "# partially correct for class imbalance\n",
    "rus = RandomUnderSampler(\n",
    "    random_state=42, \n",
    "    sampling_strategy=0.12,\n",
    "    replacement=False\n",
    ")\n",
    "x_train_low_rus, y_train_low_rus = rus.fit_resample(x_train_low,y_train_low)\n",
    "print(f\"x_train_low_rus: {x_train_low_rus.shape}\")\n",
    "\n",
    "\n",
    "# fit\n",
    "rf = RandomForestClassifier(random_state=42)\n",
    "rf.fit(x_train_low_rus, y_train_low_rus)\n",
    "y_pred_low = rf.predict(x_test_low)\n",
    "\n",
    "pd.DataFrame(classification_report(y_test_low,y_pred_low,output_dict=True))"
   ]
  },
  {
   "cell_type": "code",
   "execution_count": 18,
   "metadata": {},
   "outputs": [
    {
     "data": {
      "text/plain": [
       "['/Users/jonhand/Desktop/w210_Capstone/capstone210-ppd-carmeli_chari_hand_lee/backend/trainer/model_pipeline_low.pkl']"
      ]
     },
     "execution_count": 18,
     "metadata": {},
     "output_type": "execute_result"
    }
   ],
   "source": [
    "\n",
    "model_filename = \"model_pipeline_low.pkl\"\n",
    "model_path = join(getcwd(), model_filename)\n",
    "joblib.dump(rf, model_path)\n",
    "\n"
   ]
  },
  {
   "cell_type": "code",
   "execution_count": 19,
   "metadata": {},
   "outputs": [
    {
     "name": "stdout",
     "output_type": "stream",
     "text": [
      "x_train_high_rus: (982, 31)\n"
     ]
    },
    {
     "data": {
      "text/html": [
       "<div>\n",
       "<style scoped>\n",
       "    .dataframe tbody tr th:only-of-type {\n",
       "        vertical-align: middle;\n",
       "    }\n",
       "\n",
       "    .dataframe tbody tr th {\n",
       "        vertical-align: top;\n",
       "    }\n",
       "\n",
       "    .dataframe thead th {\n",
       "        text-align: right;\n",
       "    }\n",
       "</style>\n",
       "<table border=\"1\" class=\"dataframe\">\n",
       "  <thead>\n",
       "    <tr style=\"text-align: right;\">\n",
       "      <th></th>\n",
       "      <th>0</th>\n",
       "      <th>1</th>\n",
       "      <th>accuracy</th>\n",
       "      <th>macro avg</th>\n",
       "      <th>weighted avg</th>\n",
       "    </tr>\n",
       "  </thead>\n",
       "  <tbody>\n",
       "    <tr>\n",
       "      <th>precision</th>\n",
       "      <td>0.952577</td>\n",
       "      <td>0.296954</td>\n",
       "      <td>0.658703</td>\n",
       "      <td>0.624766</td>\n",
       "      <td>0.848155</td>\n",
       "    </tr>\n",
       "    <tr>\n",
       "      <th>recall</th>\n",
       "      <td>0.625169</td>\n",
       "      <td>0.835714</td>\n",
       "      <td>0.658703</td>\n",
       "      <td>0.730442</td>\n",
       "      <td>0.658703</td>\n",
       "    </tr>\n",
       "    <tr>\n",
       "      <th>f1-score</th>\n",
       "      <td>0.754902</td>\n",
       "      <td>0.438202</td>\n",
       "      <td>0.658703</td>\n",
       "      <td>0.596552</td>\n",
       "      <td>0.704461</td>\n",
       "    </tr>\n",
       "    <tr>\n",
       "      <th>support</th>\n",
       "      <td>739.000000</td>\n",
       "      <td>140.000000</td>\n",
       "      <td>0.658703</td>\n",
       "      <td>879.000000</td>\n",
       "      <td>879.000000</td>\n",
       "    </tr>\n",
       "  </tbody>\n",
       "</table>\n",
       "</div>"
      ],
      "text/plain": [
       "                    0           1  accuracy   macro avg  weighted avg\n",
       "precision    0.952577    0.296954  0.658703    0.624766      0.848155\n",
       "recall       0.625169    0.835714  0.658703    0.730442      0.658703\n",
       "f1-score     0.754902    0.438202  0.658703    0.596552      0.704461\n",
       "support    739.000000  140.000000  0.658703  879.000000    879.000000"
      ]
     },
     "execution_count": 19,
     "metadata": {},
     "output_type": "execute_result"
    }
   ],
   "source": [
    "\n",
    "\n",
    "\n",
    "\n",
    "\n",
    "data_high_dep_screener = cdc_survey_pmom[cdc_survey_pmom['num_dep_screener_0'] < 9].copy()\n",
    "data_high_dep_screener = data_high_dep_screener[['MDD'] + columns_to_use_high]\n",
    "y_high = data_high_dep_screener['MDD'].values\n",
    "x_high = data_high_dep_screener.iloc[:,1:].values\n",
    "\n",
    "x_train_high, x_test_high, y_train_high, y_test_high = train_test_split(\n",
    "    x_high, \n",
    "    y_high, \n",
    "    test_size=0.2, \n",
    "    random_state=42\n",
    ") \n",
    "# impute and scale\n",
    "imputer_high = SimpleImputer(strategy='median')  \n",
    "trans_high = RobustScaler()\n",
    "x_train_high = imputer_high.fit_transform(x_train_high)\n",
    "x_train_high = trans_high.fit_transform(x_train_high)\n",
    "x_test_high = imputer_high.fit_transform(x_test_high)\n",
    "x_test_high = trans_high.fit_transform(x_test_high)\n",
    "\n",
    "# partially correct for class imbalance\n",
    "rus_model1 = RandomUnderSampler(\n",
    "    random_state=42, \n",
    "    sampling_strategy=1,\n",
    "    replacement=False\n",
    ")\n",
    "x_train_high_rus, y_train_high_rus = rus_model1.fit_resample(x_train_high,y_train_high)\n",
    "print(f\"x_train_high_rus: {x_train_high_rus.shape}\")\n",
    "\n",
    "\n",
    "\n",
    "\n",
    "\n",
    "\n",
    "gb = GradientBoostingClassifier(random_state=42)\n",
    "gb.fit(x_train_high_rus, y_train_high_rus)\n",
    "y_pred_high = gb.predict(x_test_high)\n",
    "\n",
    "pd.DataFrame(classification_report(y_test_high,y_pred_high,output_dict=True))"
   ]
  },
  {
   "cell_type": "code",
   "execution_count": 20,
   "metadata": {},
   "outputs": [
    {
     "data": {
      "text/plain": [
       "['/Users/jonhand/Desktop/w210_Capstone/capstone210-ppd-carmeli_chari_hand_lee/backend/trainer/model_pipeline_high.pkl']"
      ]
     },
     "execution_count": 20,
     "metadata": {},
     "output_type": "execute_result"
    }
   ],
   "source": [
    "\n",
    "model_filename = \"model_pipeline_high.pkl\"\n",
    "model_path = join(getcwd(), model_filename)\n",
    "joblib.dump(gb, model_path)\n",
    "\n"
   ]
  },
  {
   "cell_type": "code",
   "execution_count": 32,
   "metadata": {},
   "outputs": [],
   "source": [
    "try:\n",
    "    !rm train.py\n",
    "except:\n",
    "    pass"
   ]
  },
  {
   "cell_type": "code",
   "execution_count": 33,
   "metadata": {},
   "outputs": [
    {
     "name": "stdout",
     "output_type": "stream",
     "text": [
      "[NbConvertApp] Converting notebook train.ipynb to script\n",
      "[NbConvertApp] Writing 12378 bytes to train.py\n"
     ]
    }
   ],
   "source": [
    "try:\n",
    "    !jupyter nbconvert --no-prompt --to script train.ipynb\n",
    "except:\n",
    "    pass"
   ]
  },
  {
   "cell_type": "code",
   "execution_count": null,
   "metadata": {},
   "outputs": [],
   "source": []
  },
  {
   "cell_type": "code",
   "execution_count": null,
   "metadata": {},
   "outputs": [],
   "source": []
  }
 ],
 "metadata": {
  "kernelspec": {
   "display_name": ".venv",
   "language": "python",
   "name": "python3"
  },
  "language_info": {
   "codemirror_mode": {
    "name": "ipython",
    "version": 3
   },
   "file_extension": ".py",
   "mimetype": "text/x-python",
   "name": "python",
   "nbconvert_exporter": "python",
   "pygments_lexer": "ipython3",
   "version": "3.10.0"
  },
  "orig_nbformat": 4
 },
 "nbformat": 4,
 "nbformat_minor": 2
}
